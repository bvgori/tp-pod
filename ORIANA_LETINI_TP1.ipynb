{
  "nbformat": 4,
  "nbformat_minor": 0,
  "metadata": {
    "colab": {
      "provenance": [],
      "collapsed_sections": [
        "8ec8DQdbWQfC",
        "EVyry9l3Y-Ym",
        "Qle1xWYPd8Sv",
        "jKPEhcgmfH0V",
        "0PC11afRgkYM",
        "pEHxdsKh4atw"
      ]
    },
    "kernelspec": {
      "name": "python3",
      "display_name": "Python 3"
    },
    "language_info": {
      "name": "python"
    }
  },
  "cells": [
    {
      "cell_type": "markdown",
      "source": [
        "\n",
        "\n",
        "```\n",
        "# Esto tiene formato de código\n",
        "```\n",
        "\n",
        "*   **Año:** 1\n",
        "*   **Alumno/a:** Letini Oriana\n",
        "*   **Legajo:** 45689933"
      ],
      "metadata": {
        "id": "UwxQU5JCF33j"
      }
    },
    {
      "cell_type": "markdown",
      "source": [
        "# Archivos de texto plano\n",
        "\n",
        "[gutenberg.org](https://www.gutenberg.org/) (llamado así por el inventor de la imprenta moderna) es el sitio web del Proyecto Gutenberg que se dedica a la distribución y creación de eBooks. En este sitio se encuentra el [Don Quijote](https://www.gutenberg.org/ebooks/14859). El Don Quijote se puede leer en diferentes formatos, ¿no? Para la tarea, se va a usar el Don Quijote de texto plano. La siguiente celda descarga el .txt y lo guarda en el sistema para luego su futura lectura:\n",
        "\n",
        "\n"
      ],
      "metadata": {
        "id": "8ec8DQdbWQfC"
      }
    },
    {
      "cell_type": "code",
      "source": [
        "!wget https://www.gutenberg.org/cache/epub/2000/pg2000.txt"
      ],
      "metadata": {
        "id": "IdwR3kTsWOOf",
        "outputId": "ff6bc026-e381-42d2-c800-37c6c36062ce",
        "colab": {
          "base_uri": "https://localhost:8080/"
        }
      },
      "execution_count": null,
      "outputs": [
        {
          "output_type": "stream",
          "name": "stdout",
          "text": [
            "--2024-08-23 22:56:11--  https://www.gutenberg.org/cache/epub/2000/pg2000.txt\n",
            "Resolving www.gutenberg.org (www.gutenberg.org)... 152.19.134.47, 2610:28:3090:3000:0:bad:cafe:47\n",
            "Connecting to www.gutenberg.org (www.gutenberg.org)|152.19.134.47|:443... connected.\n",
            "HTTP request sent, awaiting response... 200 OK\n",
            "Length: 2225845 (2.1M) [text/plain]\n",
            "Saving to: ‘pg2000.txt.1’\n",
            "\n",
            "pg2000.txt.1        100%[===================>]   2.12M  7.02MB/s    in 0.3s    \n",
            "\n",
            "2024-08-23 22:56:12 (7.02 MB/s) - ‘pg2000.txt.1’ saved [2225845/2225845]\n",
            "\n"
          ]
        }
      ]
    },
    {
      "cell_type": "markdown",
      "source": [
        "## Consignas"
      ],
      "metadata": {
        "id": "EVyry9l3Y-Ym"
      }
    },
    {
      "cell_type": "markdown",
      "source": [
        "***NOTA: Para estas consignas, no se puede usar modulos externos a Python***"
      ],
      "metadata": {
        "id": "9JSAN376c69E"
      }
    },
    {
      "cell_type": "markdown",
      "source": [
        "Del archivo descargado, calcular la cantidad de lineas:"
      ],
      "metadata": {
        "id": "uF01w4AQcrtV"
      }
    },
    {
      "cell_type": "code",
      "source": [
        "#Escribir el codigo para responder la pregunta en esta celda\n",
        "\n",
        "archivo = open(\"pg2000.txt\", \"r\")\n",
        "lineas = archivo.readlines()\n",
        "print(len(lineas))\n",
        "archivo.close"
      ],
      "metadata": {
        "id": "4WPUcwU_c5n2",
        "outputId": "0b7382c2-29a3-4a2a-b803-2d2e118c8af7",
        "colab": {
          "base_uri": "https://localhost:8080/"
        }
      },
      "execution_count": null,
      "outputs": [
        {
          "output_type": "stream",
          "name": "stdout",
          "text": [
            "38055\n"
          ]
        },
        {
          "output_type": "execute_result",
          "data": {
            "text/plain": [
              "<function TextIOWrapper.close()>"
            ]
          },
          "metadata": {},
          "execution_count": 36
        }
      ]
    },
    {
      "cell_type": "markdown",
      "source": [
        "Del archivo descargado, calcular la cantidad de veces que se dice:\n",
        "*   'Quijote'\n",
        "*   'mancha'\n",
        "*   'españa'\n",
        "\n",
        "Considerar que, por ejemplo, 'QuiJoTe' es lo mismo que 'quijote' (no *case sensitive*)."
      ],
      "metadata": {
        "id": "KoGfZeqnX0zu"
      }
    },
    {
      "cell_type": "code",
      "source": [
        "#Escribir el codigo para responder la pregunta en esta celda\n",
        "\n",
        "archivo = open(\"pg2000.txt\", \"r\")\n",
        "lineas = archivo.readlines()\n",
        "\n",
        "\n",
        "cuenta_quijote = 0\n",
        "cuenta_mancha = 0\n",
        "cuenta_esp = 0\n",
        "\n",
        "\n",
        "for linea in lineas:\n",
        "    palabras = linea.split(\" \")\n",
        "    for palabra in palabras:\n",
        "        if \"mancha\" in palabra.lower():\n",
        "            cuenta_mancha += 1\n",
        "        elif \"españa\" in palabra.lower():\n",
        "            cuenta_esp += 1\n",
        "        elif \"quijote\" in palabra.lower():\n",
        "            cuenta_quijote += 1\n",
        "\n",
        "\n",
        "print(\"Quijote:\", cuenta_quijote)\n",
        "print(\"Mancha:\", cuenta_mancha)\n",
        "print(\"España:\", cuenta_esp)\n",
        "\n",
        "archivo.close"
      ],
      "metadata": {
        "id": "5W3S6N1VWOXS",
        "outputId": "b6bc1515-11a5-493c-b8bf-2a6787c28679",
        "colab": {
          "base_uri": "https://localhost:8080/"
        }
      },
      "execution_count": null,
      "outputs": [
        {
          "output_type": "stream",
          "name": "stdout",
          "text": [
            "Quijote: 2249\n",
            "Mancha: 196\n",
            "España: 78\n"
          ]
        },
        {
          "output_type": "execute_result",
          "data": {
            "text/plain": [
              "<function TextIOWrapper.close()>"
            ]
          },
          "metadata": {},
          "execution_count": 49
        }
      ]
    },
    {
      "cell_type": "markdown",
      "source": [
        "¿Quien es el autor y titulo del libro? Responderlo usando las herramientas utilizadas en la celda anterior (Tip: abrir el archivo de texto y ver como son las primeras lineas)."
      ],
      "metadata": {
        "id": "7sD03KW_ZBRP"
      }
    },
    {
      "cell_type": "code",
      "source": [
        "#Escribir el codigo para responder la pregunta en esta celda\n",
        "\n",
        "archivo = open(\"pg2000.txt\", \"r\")\n",
        "lineas = archivo.readlines()\n",
        "\n",
        "for linea in lineas:\n",
        "    palabras = linea.split(\" \")\n",
        "    for palabra in palabras:\n",
        "        if \"author\" in palabra.lower():\n",
        "            print(linea)\n",
        "        if \"title\" in palabra.lower():\n",
        "            print(linea)\n",
        "\n",
        "archivo.close"
      ],
      "metadata": {
        "id": "UOeILNtRWOkc",
        "outputId": "58967457-c640-4736-eb0d-f18b576b7166",
        "colab": {
          "base_uri": "https://localhost:8080/"
        }
      },
      "execution_count": null,
      "outputs": [
        {
          "output_type": "stream",
          "name": "stdout",
          "text": [
            "Title: Don Quijote\n",
            "\n",
            "Author: Miguel de Cervantes Saavedra\n",
            "\n"
          ]
        },
        {
          "output_type": "execute_result",
          "data": {
            "text/plain": [
              "<function TextIOWrapper.close()>"
            ]
          },
          "metadata": {},
          "execution_count": 66
        }
      ]
    },
    {
      "cell_type": "markdown",
      "source": [
        "# Archivos .csv\n",
        "\n",
        "*Robert* De Niro actuó en mas de 100 peliculas y Rotten Tomatoes es un sitio web en el que se pueden leer criticas y ratings a peliculas hechos por críticos y usuarios. La siguiente linea descarga un archivo .csv en el que tenemos peliculas de De Niro junto a su rating en Rotten Tomatoes:"
      ],
      "metadata": {
        "id": "Qle1xWYPd8Sv"
      }
    },
    {
      "cell_type": "code",
      "source": [
        "!wget https://people.sc.fsu.edu/~jburkardt/data/csv/deniro.csv"
      ],
      "metadata": {
        "id": "xjR9oYuQciUC",
        "outputId": "07221d3c-08c8-4ffa-aa57-b8da213f46f7",
        "colab": {
          "base_uri": "https://localhost:8080/"
        }
      },
      "execution_count": null,
      "outputs": [
        {
          "output_type": "stream",
          "name": "stdout",
          "text": [
            "--2024-09-09 18:59:19--  https://people.sc.fsu.edu/~jburkardt/data/csv/deniro.csv\n",
            "Resolving people.sc.fsu.edu (people.sc.fsu.edu)... 144.174.0.22\n",
            "Connecting to people.sc.fsu.edu (people.sc.fsu.edu)|144.174.0.22|:443... connected.\n",
            "HTTP request sent, awaiting response... 200 OK\n",
            "Length: 2391 (2.3K) [text/csv]\n",
            "Saving to: ‘deniro.csv.1’\n",
            "\n",
            "deniro.csv.1        100%[===================>]   2.33K  --.-KB/s    in 0s      \n",
            "\n",
            "2024-09-09 18:59:20 (740 MB/s) - ‘deniro.csv.1’ saved [2391/2391]\n",
            "\n"
          ]
        }
      ]
    },
    {
      "cell_type": "markdown",
      "source": [
        "## Consignas"
      ],
      "metadata": {
        "id": "jKPEhcgmfH0V"
      }
    },
    {
      "cell_type": "markdown",
      "source": [
        "***NOTA: Apartir de aca, se pueden usar modulos externos de Python***"
      ],
      "metadata": {
        "id": "wapWSGEUfa2p"
      }
    },
    {
      "cell_type": "markdown",
      "source": [
        "Sabemos que el archivo tiene en su primera linea los 'headers'. ¿Cuales son? Imprimirlos."
      ],
      "metadata": {
        "id": "O1QNcst1fQEm"
      }
    },
    {
      "cell_type": "code",
      "source": [
        "#Escribir el codigo para responder la pregunta en esta celda\n",
        "\n",
        "archivo = open(\"deniro.csv\", \"r\")\n",
        "lineas = archivo.readlines()\n",
        "\n",
        "print(lineas[0])\n",
        "archivo.close"
      ],
      "metadata": {
        "id": "WEkUhVuQfPoi",
        "outputId": "32954c3f-431a-40fa-be48-b9b314e67828",
        "colab": {
          "base_uri": "https://localhost:8080/"
        }
      },
      "execution_count": null,
      "outputs": [
        {
          "output_type": "stream",
          "name": "stdout",
          "text": [
            "\"Year\", \"Score\", \"Title\"\n",
            "\n"
          ]
        },
        {
          "output_type": "execute_result",
          "data": {
            "text/plain": [
              "<function TextIOWrapper.close()>"
            ]
          },
          "metadata": {},
          "execution_count": 100
        }
      ]
    },
    {
      "cell_type": "markdown",
      "source": [
        "Convertir la información del archivo .csv a un diccionario."
      ],
      "metadata": {
        "id": "JlB8YAhKfd-x"
      }
    },
    {
      "cell_type": "code",
      "source": [
        "import csv\n",
        "\n",
        "with open('deniro.csv', mode='r') as file:\n",
        "    csv_reader = csv.DictReader(file, delimiter=',')\n",
        "    peliculas = [fila for fila in csv_reader]\n",
        "\n",
        "def limpiar_diccionario(peliculas):\n",
        "    lista_limpia = []\n",
        "\n",
        "    for dic in peliculas:\n",
        "        dic_limpio = {}\n",
        "        for clave, valor in dic.items():\n",
        "            clave_limpia = clave.replace('\"', '').strip() if isinstance(clave, str) else clave\n",
        "            valor_limpio = valor.strip() if isinstance(valor, str) else valor\n",
        "            dic_limpio[clave_limpia] = valor_limpio\n",
        "        lista_limpia.append(dic_limpio)\n",
        "\n",
        "    return lista_limpia\n",
        "\n",
        "peliculas_limpio = limpiar_diccionario(peliculas)\n",
        "\n",
        "print(peliculas_limpio)"
      ],
      "metadata": {
        "id": "tpHR0iv0fdor",
        "outputId": "427a8792-a836-4cdb-fab0-13d67c8c8706",
        "colab": {
          "base_uri": "https://localhost:8080/"
        }
      },
      "execution_count": null,
      "outputs": [
        {
          "output_type": "stream",
          "name": "stdout",
          "text": [
            "[{'Year': '1968', 'Score': '86', 'Title': '\"Greetings\"'}, {'Year': '1970', 'Score': '17', 'Title': '\"Bloody Mama\"'}, {'Year': '1970', 'Score': '73', 'Title': '\"Hi', None: [' Mom!\"']}, {'Year': '1971', 'Score': '40', 'Title': '\"Born to Win\"'}, {'Year': '1973', 'Score': '98', 'Title': '\"Mean Streets\"'}, {'Year': '1973', 'Score': '88', 'Title': '\"Bang the Drum Slowly\"'}, {'Year': '1974', 'Score': '97', 'Title': '\"The Godfather', None: [' Part II\"']}, {'Year': '1976', 'Score': '41', 'Title': '\"The Last Tycoon\"'}, {'Year': '1976', 'Score': '99', 'Title': '\"Taxi Driver\"'}, {'Year': '1977', 'Score': '47', 'Title': '\"1900\"'}, {'Year': '1977', 'Score': '67', 'Title': '\"New York', None: [' New York\"']}, {'Year': '1978', 'Score': '93', 'Title': '\"The Deer Hunter\"'}, {'Year': '1980', 'Score': '97', 'Title': '\"Raging Bull\"'}, {'Year': '1981', 'Score': '75', 'Title': '\"True Confessions\"'}, {'Year': '1983', 'Score': '90', 'Title': '\"The King of Comedy\"'}, {'Year': '1984', 'Score': '89', 'Title': '\"Once Upon a Time in America\"'}, {'Year': '1984', 'Score': '60', 'Title': '\"Falling in Love\"'}, {'Year': '1985', 'Score': '98', 'Title': '\"Brazil\"'}, {'Year': '1986', 'Score': '65', 'Title': '\"The Mission\"'}, {'Year': '1987', 'Score': '100', 'Title': '\"Dear America: Letters Home From Vietnam\"'}, {'Year': '1987', 'Score': '80', 'Title': '\"The Untouchables\"'}, {'Year': '1987', 'Score': '78', 'Title': '\"Angel Heart\"'}, {'Year': '1988', 'Score': '96', 'Title': '\"Midnight Run\"'}, {'Year': '1989', 'Score': '64', 'Title': '\"Jacknife\"'}, {'Year': '1989', 'Score': '47', 'Title': '\"We\\'re No Angels\"'}, {'Year': '1990', 'Score': '88', 'Title': '\"Awakenings\"'}, {'Year': '1990', 'Score': '29', 'Title': '\"Stanley & Iris\"'}, {'Year': '1990', 'Score': '96', 'Title': '\"Goodfellas\"'}, {'Year': '1991', 'Score': '76', 'Title': '\"Cape Fear\"'}, {'Year': '1991', 'Score': '69', 'Title': '\"Mistress\"'}, {'Year': '1991', 'Score': '65', 'Title': '\"Guilty by Suspicion\"'}, {'Year': '1991', 'Score': '71', 'Title': '\"Backdraft\"'}, {'Year': '1992', 'Score': '87', 'Title': '\"Thunderheart\"'}, {'Year': '1992', 'Score': '67', 'Title': '\"Night and the City\"'}, {'Year': '1993', 'Score': '75', 'Title': '\"This Boy\\'s Life\"'}, {'Year': '1993', 'Score': '78', 'Title': '\"Mad Dog and Glory\"'}, {'Year': '1993', 'Score': '96', 'Title': '\"A Bronx Tale\"'}, {'Year': '1994', 'Score': '39', 'Title': '\"Mary Shelley\\'s Frankenstein\"'}, {'Year': '1995', 'Score': '80', 'Title': '\"Casino\"'}, {'Year': '1995', 'Score': '86', 'Title': '\"Heat\"'}, {'Year': '1996', 'Score': '74', 'Title': '\"Sleepers\"'}, {'Year': '1996', 'Score': '38', 'Title': '\"The Fan\"'}, {'Year': '1996', 'Score': '80', 'Title': '\"Marvin\\'s Room\"'}, {'Year': '1997', 'Score': '85', 'Title': '\"Wag the Dog\"'}, {'Year': '1997', 'Score': '87', 'Title': '\"Jackie Brown\"'}, {'Year': '1997', 'Score': '72', 'Title': '\"Cop Land\"'}, {'Year': '1998', 'Score': '68', 'Title': '\"Ronin\"'}, {'Year': '1998', 'Score': '38', 'Title': '\"Great Expectations\"'}, {'Year': '1999', 'Score': '69', 'Title': '\"Analyze This\"'}, {'Year': '1999', 'Score': '43', 'Title': '\"Flawless\"'}, {'Year': '2000', 'Score': '43', 'Title': '\"The Adventures of Rocky & Bullwinkle\"'}, {'Year': '2000', 'Score': '84', 'Title': '\"Meet the Parents\"'}, {'Year': '2000', 'Score': '41', 'Title': '\"Men of Honor\"'}, {'Year': '2001', 'Score': '73', 'Title': '\"The Score\"'}, {'Year': '2001', 'Score': '33', 'Title': '\"15 Minutes\"'}, {'Year': '2002', 'Score': '48', 'Title': '\"City by the Sea\"'}, {'Year': '2002', 'Score': '27', 'Title': '\"Analyze That\"'}, {'Year': '2003', 'Score': '4', 'Title': '\"Godsend\"'}, {'Year': '2004', 'Score': '35', 'Title': '\"Shark Tale\"'}, {'Year': '2004', 'Score': '38', 'Title': '\"Meet the Fockers\"'}, {'Year': '2005', 'Score': '4', 'Title': '\"The Bridge of San Luis Rey\"'}, {'Year': '2005', 'Score': '46', 'Title': '\"Rent\"'}, {'Year': '2005', 'Score': '13', 'Title': '\"Hide and Seek\"'}, {'Year': '2006', 'Score': '54', 'Title': '\"The Good Shepherd\"'}, {'Year': '2007', 'Score': '21', 'Title': '\"Arthur and the Invisibles\"'}, {'Year': '2007', 'Score': '76', 'Title': '\"Captain Shakespeare\"'}, {'Year': '2008', 'Score': '19', 'Title': '\"Righteous Kill\"'}, {'Year': '2008', 'Score': '51', 'Title': '\"What Just Happened?\"'}, {'Year': '2009', 'Score': '46', 'Title': '\"Everybody\\'s Fine\"'}, {'Year': '2010', 'Score': '72', 'Title': '\"Machete\"'}, {'Year': '2010', 'Score': '10', 'Title': '\"Little Fockers\"'}, {'Year': '2010', 'Score': '50', 'Title': '\"Stone\"'}, {'Year': '2011', 'Score': '25', 'Title': '\"Killer Elite\"'}, {'Year': '2011', 'Score': '7', 'Title': '\"New Year\\'s Eve\"'}, {'Year': '2011', 'Score': '70', 'Title': '\"Limitless\"'}, {'Year': '2012', 'Score': '92', 'Title': '\"Silver Linings Playbook\"'}, {'Year': '2012', 'Score': '51', 'Title': '\"Being Flynn\"'}, {'Year': '2012', 'Score': '29', 'Title': '\"Red Lights\"'}, {'Year': '2013', 'Score': '46', 'Title': '\"Last Vegas\"'}, {'Year': '2013', 'Score': '7', 'Title': '\"The Big Wedding\"'}, {'Year': '2013', 'Score': '29', 'Title': '\"Grudge Match\"'}, {'Year': '2013', 'Score': '11', 'Title': '\"Killing Season\"'}, {'Year': '2014', 'Score': '9', 'Title': '\"The Bag Man\"'}, {'Year': '2015', 'Score': '60', 'Title': '\"Joy\"'}, {'Year': '2015', 'Score': '26', 'Title': '\"Heist\"'}, {'Year': '2015', 'Score': '61', 'Title': '\"The Intern\"'}, {'Year': '2016', 'Score': '11', 'Title': '\"Dirty Grandpa\"'}]\n"
          ]
        }
      ]
    },
    {
      "cell_type": "markdown",
      "source": [
        "¿Cuantas peliculas hay registradas en el archivo .csv?"
      ],
      "metadata": {
        "id": "7LfMvtSOfnry"
      }
    },
    {
      "cell_type": "code",
      "source": [
        "#Escribir el codigo para responder la pregunta en esta celda\n",
        "\n",
        "import csv\n",
        "\n",
        "print(len(peliculas))\n",
        "print(peliculas_limpio[0]['Score'])"
      ],
      "metadata": {
        "id": "cW6gEL79WOz-",
        "colab": {
          "base_uri": "https://localhost:8080/"
        },
        "outputId": "dd3955f8-9b31-4d3c-daef-9cc8b8d757a8"
      },
      "execution_count": null,
      "outputs": [
        {
          "output_type": "stream",
          "name": "stdout",
          "text": [
            "87\n",
            "86\n"
          ]
        }
      ]
    },
    {
      "cell_type": "markdown",
      "source": [
        "Imprimir las peliculas mejor y peor rankeadas del archivo (imprimir sus respectivos rankings)"
      ],
      "metadata": {
        "id": "cX6NHr3Mfwmb"
      }
    },
    {
      "cell_type": "code",
      "source": [
        "#Escribir el codigo para responder la pregunta en esta celda\n",
        "import csv\n",
        "\n",
        "def encontrar_mejor_peor_rank(peliculas):\n",
        "    peor_pelicula = peliculas[0]\n",
        "    mejor_pelicula = peliculas[0]\n",
        "\n",
        "\n",
        "    for pelicula in peliculas:\n",
        "        score_actual = int(pelicula['Score'])\n",
        "        score_peor = int(peor_pelicula['Score'])\n",
        "        score_mejor = int(mejor_pelicula['Score'])\n",
        "\n",
        "        if score_actual < score_peor:\n",
        "            peor_pelicula = pelicula\n",
        "\n",
        "        if score_actual > score_mejor:\n",
        "            mejor_pelicula = pelicula\n",
        "\n",
        "    return mejor_pelicula, peor_pelicula\n",
        "\n",
        "mejor_pelicula, peor_pelicula = encontrar_mejor_peor_rank(peliculas_limpio)\n",
        "\n",
        "print(mejor_pelicula, peor_pelicula)"
      ],
      "metadata": {
        "id": "elardtrTWO8f",
        "colab": {
          "base_uri": "https://localhost:8080/"
        },
        "outputId": "4c7dac1f-7434-47b4-e005-41eed2669bfe"
      },
      "execution_count": null,
      "outputs": [
        {
          "output_type": "stream",
          "name": "stdout",
          "text": [
            "{'Year': '1987', 'Score': '100', 'Title': '\"Dear America: Letters Home From Vietnam\"'} {'Year': '2003', 'Score': '4', 'Title': '\"Godsend\"'}\n"
          ]
        }
      ]
    },
    {
      "cell_type": "markdown",
      "source": [
        "# Base de datos - Relacionales\n",
        "\n",
        "SQLite es una biblioteca de C que provee una base de datos ligera basada en disco que no requiere un proceso de servidor separado y permite acceder a la base de datos usando una variación no estándar del lenguaje de consulta SQL. Algunas aplicaciones pueden usar SQLite para almacenamiento interno. También es posible prototipar una aplicación usando SQLite y luego transferir el código a una base de datos más grande como PostgreSQL u Oracle."
      ],
      "metadata": {
        "id": "0PC11afRgkYM"
      }
    },
    {
      "cell_type": "markdown",
      "source": [
        "Realizamos el `import` e indicamos el archivo en el que vamos a guardar la base de datos:"
      ],
      "metadata": {
        "id": "KaNvinOlgwWN"
      }
    },
    {
      "cell_type": "code",
      "source": [
        "import sqlite3\n",
        "conn = sqlite3.connect('db.db')"
      ],
      "metadata": {
        "id": "0zWsglLEgjEo"
      },
      "execution_count": null,
      "outputs": []
    },
    {
      "cell_type": "markdown",
      "source": [
        "La siguiente linea de codigo agrega filas a la misma. Por favor, ejecutar la siguiente celda para la consigna:\n",
        "\n"
      ],
      "metadata": {
        "id": "T-jXx8QEhsHm"
      }
    },
    {
      "cell_type": "code",
      "source": [
        "!wget https://people.sc.fsu.edu/~jburkardt/data/csv/snakes_count_10000.csv\n",
        "\n",
        "cur = conn.cursor()\n",
        "cur.execute(\"CREATE TABLE t (GameNumber, GameLength);\")\n",
        "\n",
        "with open('snakes_count_10000.csv','r') as csv_file:\n",
        "  lines = csv_file.readlines()[1:]\n",
        "  lines = [l.split(',') for l in lines]\n",
        "  to_db = [(l[0].strip(), l[1].strip()) for l in lines]\n",
        "\n",
        "cur.executemany(\"INSERT INTO t (GameNumber, GameLength) VALUES (?, ?);\", to_db)\n",
        "conn.commit()\n",
        "conn.close()"
      ],
      "metadata": {
        "id": "JUQ2JAOmgjWW",
        "colab": {
          "base_uri": "https://localhost:8080/",
          "height": 402
        },
        "outputId": "217fcffa-33f1-46f2-9bc5-a608f302ec3f"
      },
      "execution_count": null,
      "outputs": [
        {
          "output_type": "stream",
          "name": "stdout",
          "text": [
            "--2024-09-13 20:54:49--  https://people.sc.fsu.edu/~jburkardt/data/csv/snakes_count_10000.csv\n",
            "Resolving people.sc.fsu.edu (people.sc.fsu.edu)... 144.174.0.22\n",
            "Connecting to people.sc.fsu.edu (people.sc.fsu.edu)|144.174.0.22|:443... connected.\n",
            "HTTP request sent, awaiting response... 200 OK\n",
            "Length: 89011 (87K) [text/csv]\n",
            "Saving to: ‘snakes_count_10000.csv’\n",
            "\n",
            "snakes_count_10000. 100%[===================>]  86.92K  --.-KB/s    in 0.06s   \n",
            "\n",
            "2024-09-13 20:54:49 (1.31 MB/s) - ‘snakes_count_10000.csv’ saved [89011/89011]\n",
            "\n"
          ]
        },
        {
          "output_type": "error",
          "ename": "NameError",
          "evalue": "name 'conn' is not defined",
          "traceback": [
            "\u001b[0;31m---------------------------------------------------------------------------\u001b[0m",
            "\u001b[0;31mNameError\u001b[0m                                 Traceback (most recent call last)",
            "\u001b[0;32m<ipython-input-1-c6edfad60fbe>\u001b[0m in \u001b[0;36m<cell line: 3>\u001b[0;34m()\u001b[0m\n\u001b[1;32m      1\u001b[0m \u001b[0mget_ipython\u001b[0m\u001b[0;34m(\u001b[0m\u001b[0;34m)\u001b[0m\u001b[0;34m.\u001b[0m\u001b[0msystem\u001b[0m\u001b[0;34m(\u001b[0m\u001b[0;34m'wget https://people.sc.fsu.edu/~jburkardt/data/csv/snakes_count_10000.csv'\u001b[0m\u001b[0;34m)\u001b[0m\u001b[0;34m\u001b[0m\u001b[0;34m\u001b[0m\u001b[0m\n\u001b[1;32m      2\u001b[0m \u001b[0;34m\u001b[0m\u001b[0m\n\u001b[0;32m----> 3\u001b[0;31m \u001b[0mcur\u001b[0m \u001b[0;34m=\u001b[0m \u001b[0mconn\u001b[0m\u001b[0;34m.\u001b[0m\u001b[0mcursor\u001b[0m\u001b[0;34m(\u001b[0m\u001b[0;34m)\u001b[0m\u001b[0;34m\u001b[0m\u001b[0;34m\u001b[0m\u001b[0m\n\u001b[0m\u001b[1;32m      4\u001b[0m \u001b[0mcur\u001b[0m\u001b[0;34m.\u001b[0m\u001b[0mexecute\u001b[0m\u001b[0;34m(\u001b[0m\u001b[0;34m\"CREATE TABLE t (GameNumber, GameLength);\"\u001b[0m\u001b[0;34m)\u001b[0m\u001b[0;34m\u001b[0m\u001b[0;34m\u001b[0m\u001b[0m\n\u001b[1;32m      5\u001b[0m \u001b[0;34m\u001b[0m\u001b[0m\n",
            "\u001b[0;31mNameError\u001b[0m: name 'conn' is not defined"
          ]
        }
      ]
    },
    {
      "cell_type": "markdown",
      "source": [],
      "metadata": {
        "id": "qp3AoQCd-LWF"
      }
    },
    {
      "cell_type": "markdown",
      "source": [
        "## Consignas"
      ],
      "metadata": {
        "id": "06PQmTIdnprM"
      }
    },
    {
      "cell_type": "markdown",
      "source": [
        "¿Como luce la base de datos? Imprimirla.\n"
      ],
      "metadata": {
        "id": "WxEdqmEloQqT"
      }
    },
    {
      "cell_type": "code",
      "source": [
        "#Escribir el codigo para responder la pregunta en esta celda\n",
        "\n",
        "print(to_db)"
      ],
      "metadata": {
        "id": "0s8aBsoRoPtg"
      },
      "execution_count": null,
      "outputs": []
    },
    {
      "cell_type": "markdown",
      "source": [
        "¿Cuantas filas hay en la base de datos?"
      ],
      "metadata": {
        "id": "PKbtk_Krn6gn"
      }
    },
    {
      "cell_type": "code",
      "source": [
        "#Escribir el codigo para responder la pregunta en esta celda\n",
        "\n",
        "cur.execute('SELECT COUNT(*) FROM t')\n",
        "numero_de_filas = cur.fetchone()[0]\n",
        "print(numero_de_filas)\n"
      ],
      "metadata": {
        "id": "PiaQsgBrn6Fv"
      },
      "execution_count": null,
      "outputs": []
    },
    {
      "cell_type": "markdown",
      "source": [
        "¿Cual es el máximo `GameLength` y en qué `GameNumber` se realizó?"
      ],
      "metadata": {
        "id": "Nj7MHOItoFMk"
      }
    },
    {
      "cell_type": "code",
      "source": [
        "#Escribir el codigo para responder la pregunta en esta celda\n",
        "\n",
        "cur.execute(\"SELECT GameNumber, GameLength FROM t WHERE GameLength = (SELECT MAX(GameLength) FROM t)\")\n",
        "resultado = cur.fetchone()\n",
        "print(f\"El máximo GameLength es {resultado[1]} y se realizó en el GameNumber {resultado[0]}.\")\n",
        "conn.close()"
      ],
      "metadata": {
        "id": "_5jLvBsjoFmc"
      },
      "execution_count": null,
      "outputs": []
    },
    {
      "cell_type": "markdown",
      "source": [
        "# API Requests\n",
        "Por lo general, conseguimos datos a traves de internet. Aunque el concepto de Application Programming Interface (API) es muy amplio y muy poco concreto, en el contexto de los servidores, es un conjunto de 'endpoints' que los servidores ofrecen para poder leer/procesar/escribir información en estos mismos.\n",
        "\n",
        "[En este repositorio](https://github.com/public-apis/public-apis) van a encontrar una lista de APIs públicas (pueden elegir otras que no son de ese repositorio). Para la consigna, se recomienda usar aquellas APIs que no requieren autenticación. Si se elige una API con autenticación, por favor, adjuntar las keys o pasarl las credenciales necesarias para su futura ejecución También, pueden usar varias URLs."
      ],
      "metadata": {
        "id": "T2RSUVCvoxT4"
      }
    },
    {
      "cell_type": "markdown",
      "source": [
        "## Consigna"
      ],
      "metadata": {
        "id": "jkYYyfAbzUb1"
      }
    },
    {
      "cell_type": "markdown",
      "source": [
        "Hacer una request GET e imprimir uno de los campos de la respuesta:"
      ],
      "metadata": {
        "id": "aHJRrt9AzeaA"
      }
    },
    {
      "cell_type": "code",
      "source": [
        "import requests\n",
        "\n",
        "url = \"https://pokeapi.co/api/v2/pokemon/ditto\"\n",
        "\n",
        "response = requests.get(url)\n",
        "\n",
        "if response.status_code == 200:\n",
        "    characters = response.json()\n",
        "    print(f\"¿Quién es ese Pokémon? ¡Es {characters['name']}!\")\n",
        "else:\n",
        "    print(f\"Error en la solicitud. Código de estado: {response.status_code}\")"
      ],
      "metadata": {
        "id": "MJt0d2WuzbOD",
        "colab": {
          "base_uri": "https://localhost:8080/"
        },
        "outputId": "5ce1a916-7f06-476e-e9d8-a7013041a588"
      },
      "execution_count": null,
      "outputs": [
        {
          "output_type": "stream",
          "name": "stdout",
          "text": [
            "¿Quién es ese Pokémon? ¡Es ditto!\n"
          ]
        }
      ]
    },
    {
      "cell_type": "markdown",
      "source": [
        "Hacer una request GET y, apartir de los campos en la respuesta, generar otro campo (por ejemplo, si la respuesta solo incluye un timestamp y una posición del registro, elaborar la velocidad del registro)"
      ],
      "metadata": {
        "id": "bmLeZSJKzq2e"
      }
    },
    {
      "cell_type": "code",
      "source": [
        "import requests\n",
        "\n",
        "url = \"https://pokeapi.co/api/v2/pokemon?limit=10\"\n",
        "\n",
        "response = requests.get(url)\n",
        "\n",
        "if response.status_code == 200:\n",
        "    data = response.json()\n",
        "\n",
        "    for pokemon in data['results']:\n",
        "        pokemon_name = pokemon['name']\n",
        "        pokemon_details = requests.get(pokemon['url']).json()\n",
        "        types = [t['type']['name'] for t in pokemon_details['types']]\n",
        "\n",
        "        if any(t in ['fire', 'fighting'] for t in types):\n",
        "            pokemon_type = \"Físico\"\n",
        "        elif any(t in ['electric', 'psychic'] for t in types):\n",
        "            pokemon_type = \"Especial\"\n",
        "        else:\n",
        "            pokemon_type = \"Desconocido\"\n",
        "\n",
        "        pokemon_details['Tipo de personaje'] = pokemon_type\n",
        "\n",
        "        print(f\"Pokémon: {pokemon_details['name']}\")\n",
        "        print(f\"Tipo de personaje: {pokemon_details['Tipo de personaje']}\")\n",
        "        print(\"-----\")\n",
        "\n",
        "\n",
        "else:\n",
        "    print(f\"Error en la solicitud. Código de estado: {response.status_code}\")\n",
        "\n"
      ],
      "metadata": {
        "id": "j0higEc9zn3y",
        "colab": {
          "base_uri": "https://localhost:8080/"
        },
        "outputId": "8e843e83-4e0a-4c34-ff11-93ec8c8babb1"
      },
      "execution_count": null,
      "outputs": [
        {
          "output_type": "stream",
          "name": "stdout",
          "text": [
            "Pokémon: bulbasaur\n",
            "Tipo de personaje: Desconocido\n",
            "-----\n",
            "Pokémon: ivysaur\n",
            "Tipo de personaje: Desconocido\n",
            "-----\n",
            "Pokémon: venusaur\n",
            "Tipo de personaje: Desconocido\n",
            "-----\n",
            "Pokémon: charmander\n",
            "Tipo de personaje: Físico\n",
            "-----\n",
            "Pokémon: charmeleon\n",
            "Tipo de personaje: Físico\n",
            "-----\n",
            "Pokémon: charizard\n",
            "Tipo de personaje: Físico\n",
            "-----\n",
            "Pokémon: squirtle\n",
            "Tipo de personaje: Desconocido\n",
            "-----\n",
            "Pokémon: wartortle\n",
            "Tipo de personaje: Desconocido\n",
            "-----\n",
            "Pokémon: blastoise\n",
            "Tipo de personaje: Desconocido\n",
            "-----\n",
            "Pokémon: caterpie\n",
            "Tipo de personaje: Desconocido\n",
            "-----\n"
          ]
        }
      ]
    },
    {
      "cell_type": "markdown",
      "source": [
        "# Streaming data\n",
        "\n",
        "---\n",
        "\n",
        "\n",
        "Ahora vamos a hacer algo muy parecido a lo anterior, pero vamos a usar APIs que nos ofrecen datos en tiempo real. Pueden encontrar APIs de este estilo [en este repositorio](https://github.com/ColinEberhardt/awesome-public-streaming-datasets) (pueden elegir otras que no son de ese repositorio)"
      ],
      "metadata": {
        "id": "pEHxdsKh4atw"
      }
    },
    {
      "cell_type": "markdown",
      "source": [
        "## Consigna"
      ],
      "metadata": {
        "id": "EB8_JQfw4iJ5"
      }
    },
    {
      "cell_type": "markdown",
      "source": [
        "Hacer un plot con `matplotlib` de una variable de una API de datos streaming en el que el eje 'y' sea la variable y el eje 'x' el tiempo."
      ],
      "metadata": {
        "id": "S-FNfnOT4reQ"
      }
    },
    {
      "cell_type": "code",
      "source": [
        "!pip install websocket-client matplotlib\n"
      ],
      "metadata": {
        "colab": {
          "base_uri": "https://localhost:8080/"
        },
        "id": "fA0o1Mhdz3kf",
        "outputId": "c7ef4253-ba7d-49b1-fca6-881fb49d3969"
      },
      "execution_count": null,
      "outputs": [
        {
          "output_type": "stream",
          "name": "stdout",
          "text": [
            "Requirement already satisfied: websocket-client in /usr/local/lib/python3.10/dist-packages (1.8.0)\n",
            "Requirement already satisfied: matplotlib in /usr/local/lib/python3.10/dist-packages (3.8.0)\n",
            "Requirement already satisfied: contourpy>=1.0.1 in /usr/local/lib/python3.10/dist-packages (from matplotlib) (1.3.1)\n",
            "Requirement already satisfied: cycler>=0.10 in /usr/local/lib/python3.10/dist-packages (from matplotlib) (0.12.1)\n",
            "Requirement already satisfied: fonttools>=4.22.0 in /usr/local/lib/python3.10/dist-packages (from matplotlib) (4.55.0)\n",
            "Requirement already satisfied: kiwisolver>=1.0.1 in /usr/local/lib/python3.10/dist-packages (from matplotlib) (1.4.7)\n",
            "Requirement already satisfied: numpy<2,>=1.21 in /usr/local/lib/python3.10/dist-packages (from matplotlib) (1.26.4)\n",
            "Requirement already satisfied: packaging>=20.0 in /usr/local/lib/python3.10/dist-packages (from matplotlib) (24.2)\n",
            "Requirement already satisfied: pillow>=6.2.0 in /usr/local/lib/python3.10/dist-packages (from matplotlib) (11.0.0)\n",
            "Requirement already satisfied: pyparsing>=2.3.1 in /usr/local/lib/python3.10/dist-packages (from matplotlib) (3.2.0)\n",
            "Requirement already satisfied: python-dateutil>=2.7 in /usr/local/lib/python3.10/dist-packages (from matplotlib) (2.8.2)\n",
            "Requirement already satisfied: six>=1.5 in /usr/local/lib/python3.10/dist-packages (from python-dateutil>=2.7->matplotlib) (1.16.0)\n"
          ]
        }
      ]
    },
    {
      "cell_type": "code",
      "source": [
        "\n",
        "import websocket\n",
        "import json\n",
        "import matplotlib.pyplot as plt\n",
        "import datetime\n",
        "\n",
        "times = []\n",
        "prices = []\n",
        "\n",
        "def on_message(ws, message):\n",
        "    data = json.loads(message)\n",
        "\n",
        "    print(f\"Mensaje recibido: {data}\")\n",
        "\n",
        "    if data.get('type') == 'ticker':\n",
        "        price = float(data['price'])\n",
        "        time = datetime.datetime.now()\n",
        "\n",
        "        times.append(time)\n",
        "        prices.append(price)\n",
        "\n",
        "        print(f\"Precio actualizado de BTC-USD: ${price} en {time}\")\n",
        "\n",
        "        plt.clf()\n",
        "        plt.plot(times, prices)\n",
        "        plt.xlabel('Tiempo')\n",
        "        plt.ylabel('Precio de BTC-USD')\n",
        "        plt.title('Precio de BTC-USD en Tiempo Real')\n",
        "        plt.xticks(rotation=45)\n",
        "        plt.tight_layout()\n",
        "        plt.pause(1)\n",
        "\n",
        "def on_open(ws):\n",
        "    params = {\n",
        "        \"type\": \"subscribe\",\n",
        "        \"channels\": [\n",
        "            {\n",
        "                \"name\": \"ticker\",\n",
        "                \"product_ids\": [\"BTC-USD\"]\n",
        "            }\n",
        "        ]\n",
        "    }\n",
        "\n",
        "    ws.send(json.dumps(params))\n",
        "\n",
        "\n",
        "ws = websocket.WebSocketApp(\n",
        "    \"wss://ws-feed.pro.coinbase.com\",\n",
        "    on_message=on_message,\n",
        "    on_open=on_open\n",
        ")\n",
        "\n",
        "plt.ion()\n",
        "plt.figure(figsize=(10, 6))\n",
        "\n",
        "ws.run_forever()\n",
        "\n"
      ],
      "metadata": {
        "id": "CYNfr1uH4aQm",
        "colab": {
          "base_uri": "https://localhost:8080/",
          "height": 52
        },
        "outputId": "9b1615c6-1cb6-410f-8638-4a82e7e03e3b"
      },
      "execution_count": null,
      "outputs": [
        {
          "output_type": "execute_result",
          "data": {
            "text/plain": [
              "False"
            ]
          },
          "metadata": {},
          "execution_count": 15
        },
        {
          "output_type": "display_data",
          "data": {
            "text/plain": [
              "<Figure size 1000x600 with 0 Axes>"
            ]
          },
          "metadata": {}
        }
      ]
    }
  ]
}