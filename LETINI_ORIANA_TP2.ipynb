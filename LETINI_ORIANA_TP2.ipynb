{
  "nbformat": 4,
  "nbformat_minor": 0,
  "metadata": {
    "colab": {
      "provenance": [],
      "collapsed_sections": [
        "8ec8DQdbWQfC"
      ]
    },
    "kernelspec": {
      "name": "python3",
      "display_name": "Python 3"
    },
    "language_info": {
      "name": "python"
    }
  },
  "cells": [
    {
      "cell_type": "markdown",
      "source": [
        "\n",
        "\n",
        "```\n",
        "# This is formatted as code\n",
        "```\n",
        "\n",
        "*   **Año:** primero\n",
        "*   **Alumno/a:** Letini Oriana\n",
        "*   **Legajo:** 45689933"
      ],
      "metadata": {
        "id": "UwxQU5JCF33j"
      }
    },
    {
      "cell_type": "markdown",
      "source": [
        "# NumPy\n",
        "A continuación, cada celda va a pedir algo distinto. Por favor, realizarlo con la menor cantidad de lineas posibles y con NumPy.\n"
      ],
      "metadata": {
        "id": "8ec8DQdbWQfC"
      }
    },
    {
      "cell_type": "markdown",
      "source": [
        "Importar `numpy` con el alias `np` e imprimir la versión instalada.\n"
      ],
      "metadata": {
        "id": "uF01w4AQcrtV"
      }
    },
    {
      "cell_type": "code",
      "source": [
        "#Escribir el codigo para responder la pregunta en esta celda\n",
        "\n",
        "import numpy as np\n",
        "print(np.__version__)"
      ],
      "metadata": {
        "id": "4WPUcwU_c5n2",
        "outputId": "de4aab03-1599-42c8-dea3-e9c1b88404ae",
        "colab": {
          "base_uri": "https://localhost:8080/"
        }
      },
      "execution_count": null,
      "outputs": [
        {
          "output_type": "stream",
          "name": "stdout",
          "text": [
            "1.26.4\n"
          ]
        }
      ]
    },
    {
      "cell_type": "markdown",
      "source": [
        "Setear el \"seed\" de la librearia en 0."
      ],
      "metadata": {
        "id": "w0InUlVFEdKC"
      }
    },
    {
      "cell_type": "code",
      "source": [
        "#Escribir el codigo para responder la pregunta en esta celda\n",
        "np.random.seed(0)"
      ],
      "metadata": {
        "id": "6wSGSmvVEcjl"
      },
      "execution_count": null,
      "outputs": []
    },
    {
      "cell_type": "markdown",
      "source": [
        "Crear un vector vacio (en ingles, *empty*) para subir 100 imagenes de 100x600 pixeles. Imprimir el shape de dicho vector."
      ],
      "metadata": {
        "id": "eC8fpbQ04GzX"
      }
    },
    {
      "cell_type": "code",
      "source": [
        "#Escribir el codigo para responder la pregunta en esta celda\n",
        "vector_vacio = np.empty((100, 100, 600))\n",
        "\n",
        "print(vector_vacio.shape)"
      ],
      "metadata": {
        "id": "I4zJ7s_k4GkI",
        "outputId": "5fc6f264-0f1b-4847-984e-4229e0fea24a",
        "colab": {
          "base_uri": "https://localhost:8080/"
        }
      },
      "execution_count": null,
      "outputs": [
        {
          "output_type": "stream",
          "name": "stdout",
          "text": [
            "(100, 100, 600)\n"
          ]
        }
      ]
    },
    {
      "cell_type": "markdown",
      "source": [
        "Crear dos vectores vacios donde uno tiene 1,000 elementos y el otro tiene 100,000 elementos. Imprimir el tamaño ocupado en memoria de cada arreglo en bytes."
      ],
      "metadata": {
        "id": "zas-XX4r4SeP"
      }
    },
    {
      "cell_type": "code",
      "source": [
        "#Escribir el codigo para responder la pregunta en esta celda\n",
        "vector_1000 = np.empty(1000)\n",
        "vector_100000 = np.empty(100000)\n",
        "\n",
        "print(vector_1000.nbytes)\n",
        "print(vector_100000.nbytes)"
      ],
      "metadata": {
        "id": "_DhtCWhr4ST9",
        "outputId": "4740cfbb-be84-407d-aa25-dac1bd7a2a94",
        "colab": {
          "base_uri": "https://localhost:8080/"
        }
      },
      "execution_count": null,
      "outputs": [
        {
          "output_type": "stream",
          "name": "stdout",
          "text": [
            "8000\n",
            "800000\n"
          ]
        }
      ]
    },
    {
      "cell_type": "markdown",
      "source": [
        "Crear un vector vacío con 10 elementos. El quinto elemento tiene que ser igual a 1. Imprimir el vector."
      ],
      "metadata": {
        "id": "ejbn5RSH4S_W"
      }
    },
    {
      "cell_type": "code",
      "source": [
        "#Escribir el codigo para responder la pregunta en esta celda\n",
        "vector_vacio10 = np.empty(10)\n",
        "vector_vacio10[4] = 1\n",
        "\n",
        "print(vector_vacio10)"
      ],
      "metadata": {
        "id": "OMPq8C1C4Su3",
        "outputId": "29297ef7-d1af-4893-b86d-9a79ff7493d7",
        "colab": {
          "base_uri": "https://localhost:8080/"
        }
      },
      "execution_count": null,
      "outputs": [
        {
          "output_type": "stream",
          "name": "stdout",
          "text": [
            "[4.71969966e-310 0.00000000e+000 0.00000000e+000 0.00000000e+000\n",
            " 1.00000000e+000 1.42107360e+161 2.14338427e+184 5.58289615e-091\n",
            " 2.70188036e-056 2.91237084e+257]\n"
          ]
        }
      ]
    },
    {
      "cell_type": "markdown",
      "source": [
        "[texto del vínculo](https://)Generar un arreglo con los valores desde 10 hasta 35 en pasos de 2. Imprimir el arreglo."
      ],
      "metadata": {
        "id": "dVCeyowLEnJ1"
      }
    },
    {
      "cell_type": "code",
      "source": [
        "#Escribir el codigo para responder la pregunta en esta celda\n",
        "arreglo = np.arange(10, 35, 2)\n",
        "\n",
        "print(arreglo)"
      ],
      "metadata": {
        "id": "lj0zQr7qEmzj",
        "outputId": "942dda3d-0b37-4e28-de8a-4b12abd94f09",
        "colab": {
          "base_uri": "https://localhost:8080/"
        }
      },
      "execution_count": null,
      "outputs": [
        {
          "output_type": "stream",
          "name": "stdout",
          "text": [
            "[10 12 14 16 18 20 22 24 26 28 30 32 34]\n"
          ]
        }
      ]
    },
    {
      "cell_type": "markdown",
      "source": [
        "Generar un arreglo con los valores desde -1 hasta -1 en pasos de 0.25. Luego, revertirlo. Imprimir el arreglo."
      ],
      "metadata": {
        "id": "oP9dwhSLEnix"
      }
    },
    {
      "cell_type": "code",
      "source": [
        "#Escribir el codigo para responder la pregunta en esta celda\n",
        "arreglo = np.arange(-1, -1, 0.25)\n",
        "arreglo2 = arreglo[::-1]\n",
        "\n",
        "print(arreglo2)"
      ],
      "metadata": {
        "id": "lt6ZjIgAFEpT",
        "outputId": "cff3e325-2d65-4d79-ec9c-7cc037902159",
        "colab": {
          "base_uri": "https://localhost:8080/"
        }
      },
      "execution_count": null,
      "outputs": [
        {
          "output_type": "stream",
          "name": "stdout",
          "text": [
            "[]\n"
          ]
        }
      ]
    },
    {
      "cell_type": "markdown",
      "source": [
        "Generar un arreglo que va desde -10 y 10 y que tenga 2,878 elementos. Imprimir el primer, último y 198º elemento."
      ],
      "metadata": {
        "id": "X6Y5smKMEn6w"
      }
    },
    {
      "cell_type": "code",
      "source": [
        "#Escribir el codigo para responder la pregunta en esta celda\n",
        "arreglo = np.linspace(-10, 10, 2878)\n",
        "\n",
        "print(arreglo[0])\n",
        "print(arreglo[-1])\n",
        "print(arreglo[197])"
      ],
      "metadata": {
        "id": "HlPu1a1sEohQ",
        "outputId": "9340027a-ce2f-47bb-f673-1eb46a31f24f",
        "colab": {
          "base_uri": "https://localhost:8080/"
        }
      },
      "execution_count": null,
      "outputs": [
        {
          "output_type": "stream",
          "name": "stdout",
          "text": [
            "-10.0\n",
            "10.0\n",
            "-8.630517900590894\n"
          ]
        }
      ]
    },
    {
      "cell_type": "markdown",
      "source": [
        "Generar una matriz 5x5 y con valores de 0 a 24. Imprimir la matriz."
      ],
      "metadata": {
        "id": "OqJ3ufrnEouE"
      }
    },
    {
      "cell_type": "code",
      "source": [
        "#Escribir el codigo para responder la pregunta en esta celda\n",
        "matriz = np.arange(25).reshape(5, 5)\n",
        "\n",
        "print(matriz)"
      ],
      "metadata": {
        "id": "h9LdQIKZF5Y3",
        "outputId": "5391fffc-c600-4b5a-8b3f-197c1150e062",
        "colab": {
          "base_uri": "https://localhost:8080/"
        }
      },
      "execution_count": null,
      "outputs": [
        {
          "output_type": "stream",
          "name": "stdout",
          "text": [
            "[[ 0  1  2  3  4]\n",
            " [ 5  6  7  8  9]\n",
            " [10 11 12 13 14]\n",
            " [15 16 17 18 19]\n",
            " [20 21 22 23 24]]\n"
          ]
        }
      ]
    },
    {
      "cell_type": "markdown",
      "source": [
        "Generar una lista de 10,000 elementos que vengan de una distribucion uniforme entre la constante de euler y π. (Nota: utilizar constantes de `numpy`). Dibujar la distribución con `matplotlib` en forma de histograma e imprimir el tipo de dato del arreglo."
      ],
      "metadata": {
        "id": "ECU9-LayF53z"
      }
    },
    {
      "cell_type": "code",
      "source": [
        "#Escribir el codigo para responder la pregunta en esta celda\n",
        "import matplotlib.pyplot as plt\n",
        "\n",
        "euler = np.e\n",
        "pi = np.pi\n",
        "\n",
        "data = np.random.uniform(euler, pi, 10000)\n",
        "\n",
        "print(data.dtype)\n",
        "\n",
        "plt.hist(data, bins=50, edgecolor='black')\n",
        "plt.title('Histograma de una distribución uniforme entre euler y pi')\n",
        "plt.xlabel('Valor')\n",
        "plt.ylabel('Frecuencia')\n",
        "plt.grid(True)\n",
        "plt.show()"
      ],
      "metadata": {
        "id": "qOimVpu0F4el",
        "outputId": "978702f2-7758-4d8d-f50c-dd08642b1329",
        "colab": {
          "base_uri": "https://localhost:8080/",
          "height": 490
        }
      },
      "execution_count": null,
      "outputs": [
        {
          "output_type": "stream",
          "name": "stdout",
          "text": [
            "float64\n"
          ]
        },
        {
          "output_type": "display_data",
          "data": {
            "text/plain": [
              "<Figure size 640x480 with 1 Axes>"
            ],
            "image/png": "[encoded data removed]"
          },
          "metadata": {}
        }
      ]
    },
    {
      "cell_type": "markdown",
      "source": [
        "Generar una lista de 20 elementos que vengan de una distribucion uniforme entre 0 y 1 e imprimirlo ordenado."
      ],
      "metadata": {
        "id": "mFzSH9D1QHM4"
      }
    },
    {
      "cell_type": "code",
      "source": [
        "#Escribir el codigo para responder la pregunta en esta celda\n",
        "\n",
        "lista = np.random.uniform(0,1,20)\n",
        "\n",
        "print(np.sort(lista))"
      ],
      "metadata": {
        "id": "SZg2_4AJQHhr",
        "outputId": "8047bbc6-53d9-4928-e2df-c6e7bdc9297a",
        "colab": {
          "base_uri": "https://localhost:8080/"
        }
      },
      "execution_count": null,
      "outputs": [
        {
          "output_type": "stream",
          "name": "stdout",
          "text": [
            "[0.03881915 0.1453272  0.19398535 0.19796269 0.38509751 0.46088382\n",
            " 0.49324968 0.49906673 0.50067142 0.54547057 0.67941229 0.74048023\n",
            " 0.83481806 0.87210466 0.87851872 0.91420397 0.91709626 0.9469049\n",
            " 0.94888298 0.97279759]\n"
          ]
        }
      ]
    },
    {
      "cell_type": "markdown",
      "source": [
        "Lo mismo que el punto anterior pero con una distribución normal con media 160 y desvío estandar 30."
      ],
      "metadata": {
        "id": "6A6Brh4gF6Lt"
      }
    },
    {
      "cell_type": "code",
      "source": [
        "#Escribir el codigo para responder la pregunta en esta celda\n",
        "lista = np.random.normal(160,30,20)\n",
        "\n",
        "print(np.sort(lista))"
      ],
      "metadata": {
        "id": "TxMk83xZEpG_",
        "outputId": "7b21a6fa-600c-4b9e-fe7a-9ecf76775c36",
        "colab": {
          "base_uri": "https://localhost:8080/"
        }
      },
      "execution_count": null,
      "outputs": [
        {
          "output_type": "stream",
          "name": "stdout",
          "text": [
            "[109.99396555 123.85241222 137.18158823 138.02526256 141.68309414\n",
            " 147.92214652 148.02929122 152.72978691 157.07642041 169.69674843\n",
            " 172.2390835  174.73197249 175.20961676 176.43949964 185.11352757\n",
            " 186.96916235 193.23014867 195.2283701  197.9501586  230.57838389]\n"
          ]
        }
      ]
    },
    {
      "cell_type": "markdown",
      "source": [
        "Lo mismo que el punto anterior pero con una distribución normal con media 50 y desvío estandar 1. Imprimir el valor mas cercano (es decir, el de menor distancia) a 20 de los números generados."
      ],
      "metadata": {
        "id": "4MGTteNoQf-4"
      }
    },
    {
      "cell_type": "code",
      "source": [
        "#Escribir el codigo para responder la pregunta en esta celda\n",
        "lista = np.random.normal(50,1,20)\n",
        "\n",
        "valor_cercano = min(lista, key=lambda x: abs(x - 20))\n",
        "\n",
        "print(valor_cercano)"
      ],
      "metadata": {
        "id": "6JDtovFvQgWT",
        "outputId": "72acc959-cb01-4be9-bb51-568b24068cab",
        "colab": {
          "base_uri": "https://localhost:8080/"
        }
      },
      "execution_count": null,
      "outputs": [
        {
          "output_type": "stream",
          "name": "stdout",
          "text": [
            "47.667228831737994\n"
          ]
        }
      ]
    },
    {
      "cell_type": "markdown",
      "source": [
        "Teniendo en cuenta la declaración de la siguiente variable, imprimir la suma, la media, el máximo, y el mínimo de sus elementos."
      ],
      "metadata": {
        "id": "8-jikarkHP8t"
      }
    },
    {
      "cell_type": "code",
      "source": [
        "arreglo_dummy = np.array([1,9,10,23,45,78,94,78,10,23,65,47])"
      ],
      "metadata": {
        "id": "oheTNlSbHuEL"
      },
      "execution_count": null,
      "outputs": []
    },
    {
      "cell_type": "code",
      "source": [
        "\n",
        "print(np.sum(arreglo_dummy))\n",
        "print(np.min(arreglo_dummy))\n",
        "print(np.max(arreglo_dummy))\n",
        "print(np.mean(arreglo_dummy))"
      ],
      "metadata": {
        "id": "P44Cwr_IHPkU",
        "outputId": "07c0aa37-06c9-43df-b55c-d233cd6fc6c6",
        "colab": {
          "base_uri": "https://localhost:8080/"
        }
      },
      "execution_count": null,
      "outputs": [
        {
          "output_type": "stream",
          "name": "stdout",
          "text": [
            "483\n",
            "1\n",
            "94\n",
            "40.25\n"
          ]
        }
      ]
    },
    {
      "cell_type": "markdown",
      "source": [
        "Hacer lo mismo que el punto anterior pero... con un arreglo particular. Imprimir el resultado y encontrarle una explicación."
      ],
      "metadata": {
        "id": "kepjXWsqJ9XT"
      }
    },
    {
      "cell_type": "code",
      "source": [
        "arreglo_weird = np.array([1,9,10,23,45,78,94,np.nan,10,23,65,47])"
      ],
      "metadata": {
        "id": "6ePquwsPHQeJ"
      },
      "execution_count": null,
      "outputs": []
    },
    {
      "cell_type": "code",
      "source": [
        "#Cualquier operacion con np.nan va a devolver nan (not a number)\n",
        "print(np.sum(arreglo_weird))\n",
        "print(np.min(arreglo_weird))\n",
        "print(np.max(arreglo_weird))\n",
        "print(np.mean(arreglo_weird))"
      ],
      "metadata": {
        "id": "CQXaWnXrKBOw",
        "outputId": "6eb4f9ad-0e79-414a-c90e-3a47a692a053",
        "colab": {
          "base_uri": "https://localhost:8080/"
        }
      },
      "execution_count": null,
      "outputs": [
        {
          "output_type": "stream",
          "name": "stdout",
          "text": [
            "nan\n",
            "nan\n",
            "nan\n",
            "nan\n"
          ]
        }
      ]
    },
    {
      "cell_type": "markdown",
      "source": [
        "Generar un conjunto de 100 numeros ***enteros*** entre 0 y 10. Imprimir la cantidad de numeros pares que se generaron e imprimir el tipo de dato del arreglo."
      ],
      "metadata": {
        "id": "LqiqLXTXHQKu"
      }
    },
    {
      "cell_type": "code",
      "source": [
        "arreglo = np.random.randint(0,10,100)\n",
        "numeros_pares = np.sum(arr % 2 == 0)\n",
        "print(f\"Cantidad de números pares: {numeros_pares}\")\n",
        "print(f\"Tipo de dato del arreglo: {arr.dtype}\")\n"
      ],
      "metadata": {
        "id": "x8E6q3rJK18F"
      },
      "execution_count": null,
      "outputs": []
    },
    {
      "cell_type": "markdown",
      "source": [
        "Generar un conjunto de 100 numeros enteros entre 0 y 10. Imprimir la cantidad de numeros mayores a 4 que se generaron."
      ],
      "metadata": {
        "id": "qZFQ73-IK2VI"
      }
    },
    {
      "cell_type": "code",
      "source": [
        "arreglo = np.random.randint(0,10,100)\n",
        "numeros_mayores_a_4 = np.sum(arr > 4)\n",
        "print(f\"Cantidad de números mayores a 4: {numeros_mayores_a_4}\")"
      ],
      "metadata": {
        "id": "t0e_siVQK2jT"
      },
      "execution_count": null,
      "outputs": []
    },
    {
      "cell_type": "markdown",
      "source": [
        "Generar un conjunto de 100 numeros enteros entre 0 y 10. Imprimir la cantidad de numeros mayores a 6 e impares que se generaron."
      ],
      "metadata": {
        "id": "uMMuY9flK2-s"
      }
    },
    {
      "cell_type": "code",
      "source": [
        "arreglo = np.random.randint(0,10,100)\n",
        "numeros_mayores_a_6_impares = np.sum((arr > 6) & (arr % 2 != 0))\n",
        "print(f\"Cantidad de números mayores a 6 e impares: {numeros_mayores_a_6_impares}\")"
      ],
      "metadata": {
        "id": "bdJ42C7eK3P0"
      },
      "execution_count": null,
      "outputs": []
    },
    {
      "cell_type": "markdown",
      "source": [
        "Supongamos que hay elecciones nacionales en un país y la cantidad de votos fueron los siguientes:\n",
        "\n",
        "\n",
        "|Candidato 1|Cantidato 2|Cantidato 3|\n",
        "|--|--|--|\n",
        "|1,772,322  |1,102,669|2,100,978 |\n",
        "\n",
        "Con `numpy`, calcular el porcentaje correspondiente a cada candidato y redondear a 2 dígitos. Imprimir los porcentajes finales y el numero del candidato ganador (aunque sea obvio, responder con lógica de `numpy`)."
      ],
      "metadata": {
        "id": "Dulb0uwyLemE"
      }
    },
    {
      "cell_type": "code",
      "source": [
        "votos = np.array([1772322, 1102669, 2100978])\n",
        "total_votos = np.sum(votos)\n",
        "porcentajes = np.round(votos / total_votos * 100, 2)\n",
        "porcentajes_redondeados = np.round(porcentajes, 2)\n",
        "print(\"Porcentajes de votos:\")\n",
        "for i, porcentaje in enumerate(porcentajes_redondeados, start=1):\n",
        "    print(f\"Candidato {i}: {porcentaje}%\")\n"
      ],
      "metadata": {
        "id": "0pRhvXdXLe0s"
      },
      "execution_count": null,
      "outputs": []
    },
    {
      "cell_type": "markdown",
      "source": [
        "Generar un arreglo de 1,000 numeros de una distribución uniforme entre 0 y 1. Luego, generar otro arreglo que contenga todos los numeros del primer arreglo que son mayores a 0.7. Imprimir la media del \"sub\" arreglo."
      ],
      "metadata": {
        "id": "NqH7jt0oLfJB"
      }
    },
    {
      "cell_type": "code",
      "source": [
        "arreglo = np.random.uniform(0, 1, 1000)\n",
        "sub_arreglo = arreglo[arreglo > 0.7]\n",
        "media_sub_arreglo = np.mean(sub_arreglo)\n",
        "print(\"Media del sub-arreglo:\", media_sub_arreglo)"
      ],
      "metadata": {
        "id": "PMjSRYB9LfYx"
      },
      "execution_count": null,
      "outputs": []
    },
    {
      "cell_type": "markdown",
      "source": [
        "# Operación vectorizada vs. Operación loopeada\n",
        "`numpy` no es solo poderoso por la gama de operaciones que podemos hacer en pocas lineas de código. Sino que por su eficiencia."
      ],
      "metadata": {
        "id": "DtyB7KaDNjaH"
      }
    },
    {
      "cell_type": "markdown",
      "source": [
        "Supongamos que tenemos la función $f(x)=10*(x^2/e^x)$. Evaluar la función (en celdas apartes) entre -1 y 1 con 100,000 valores (i) con y (ii) sin un loop `for`. Medir tiempos de cada celda y sacar conclusiones."
      ],
      "metadata": {
        "id": "RbosnptXTgZr"
      }
    },
    {
      "cell_type": "code",
      "source": [
        "import time\n",
        "\n",
        "x = np.linspace(-1, 1, 100000)\n",
        "start_time = time.time()\n",
        "f_for = np.zeros_like(x)\n",
        "for i in range(len(x)):\n",
        "    f_for[i] = 10 * (x[i]**2 / np.exp(x[i]))\n",
        "time_for = time.time() - start_time\n",
        "\n",
        "start_time = time.time()\n",
        "f_vectorized = 10 * (x**2 / np.exp(x))\n",
        "time_vectorized = time.time() - start_time\n",
        "\n",
        "print(f\"Con for: {time_for:.6f} segundos\")\n",
        "print(f\"  Sin for: {time_vectorized:.6f} segundos\")\n",
        "\n",
        "print(f\"¿Son iguales? {np.allclose(f_for, f_vectorized)}\")"
      ],
      "metadata": {
        "id": "3Y6oqZf6O8xd",
        "colab": {
          "base_uri": "https://localhost:8080/",
          "height": 211
        },
        "outputId": "b2dd0bfe-fdc5-409f-b998-0c2d7e90410a"
      },
      "execution_count": null,
      "outputs": [
        {
          "output_type": "error",
          "ename": "NameError",
          "evalue": "name 'np' is not defined",
          "traceback": [
            "\u001b[0;31m---------------------------------------------------------------------------\u001b[0m",
            "\u001b[0;31mNameError\u001b[0m                                 Traceback (most recent call last)",
            "\u001b[0;32m<ipython-input-1-6b20b8f6af03>\u001b[0m in \u001b[0;36m<cell line: 3>\u001b[0;34m()\u001b[0m\n\u001b[1;32m      1\u001b[0m \u001b[0;32mimport\u001b[0m \u001b[0mtime\u001b[0m\u001b[0;34m\u001b[0m\u001b[0;34m\u001b[0m\u001b[0m\n\u001b[1;32m      2\u001b[0m \u001b[0;34m\u001b[0m\u001b[0m\n\u001b[0;32m----> 3\u001b[0;31m \u001b[0mx\u001b[0m \u001b[0;34m=\u001b[0m \u001b[0mnp\u001b[0m\u001b[0;34m.\u001b[0m\u001b[0mlinspace\u001b[0m\u001b[0;34m(\u001b[0m\u001b[0;34m-\u001b[0m\u001b[0;36m1\u001b[0m\u001b[0;34m,\u001b[0m \u001b[0;36m1\u001b[0m\u001b[0;34m,\u001b[0m \u001b[0;36m100000\u001b[0m\u001b[0;34m)\u001b[0m\u001b[0;34m\u001b[0m\u001b[0;34m\u001b[0m\u001b[0m\n\u001b[0m\u001b[1;32m      4\u001b[0m \u001b[0mstart_time\u001b[0m \u001b[0;34m=\u001b[0m \u001b[0mtime\u001b[0m\u001b[0;34m.\u001b[0m\u001b[0mtime\u001b[0m\u001b[0;34m(\u001b[0m\u001b[0;34m)\u001b[0m\u001b[0;34m\u001b[0m\u001b[0;34m\u001b[0m\u001b[0m\n\u001b[1;32m      5\u001b[0m \u001b[0mf_for\u001b[0m \u001b[0;34m=\u001b[0m \u001b[0mnp\u001b[0m\u001b[0;34m.\u001b[0m\u001b[0mzeros_like\u001b[0m\u001b[0;34m(\u001b[0m\u001b[0mx\u001b[0m\u001b[0;34m)\u001b[0m\u001b[0;34m\u001b[0m\u001b[0;34m\u001b[0m\u001b[0m\n",
            "\u001b[0;31mNameError\u001b[0m: name 'np' is not defined"
          ]
        }
      ]
    },
    {
      "cell_type": "code",
      "source": [
        "import matplotlib.pyplot as plt\n",
        "\n",
        "plt.plot(x, f_for, label='Bucle for')\n",
        "plt.plot(x, f_vectorized, label='Vectorizado')\n",
        "plt.xlabel('x')\n",
        "plt.ylabel('f(x)')\n",
        "plt.legend()\n",
        "plt.show()"
      ],
      "metadata": {
        "id": "EXkGLh7QO88y"
      },
      "execution_count": null,
      "outputs": []
    },
    {
      "cell_type": "markdown",
      "source": [
        "El resultado de la celda anterior (aprovechar lo obtenido), graficarlo como gráfico de lineas."
      ],
      "metadata": {
        "id": "ihCMEgt0PM21"
      }
    },
    {
      "cell_type": "code",
      "source": [
        "import matplotlib.pyplot as plt\n",
        "\n",
        "plt.plot(x, f_for, label='Bucle for')\n",
        "plt.plot(x, f_vectorized, label='Vectorizado')\n",
        "plt.xlabel('x')\n",
        "plt.ylabel('f(x)')\n",
        "plt.legend()\n",
        "plt.show()"
      ],
      "metadata": {
        "id": "mgQlIorzPmPv"
      },
      "execution_count": null,
      "outputs": []
    },
    {
      "cell_type": "markdown",
      "source": [
        "# Análisis de imagenes"
      ],
      "metadata": {
        "id": "UgO9oofUPmo7"
      }
    },
    {
      "cell_type": "markdown",
      "source": [
        "Matematicamente hablando, las imagenes son arreglos. Si una imagen es de blanco y negro, tenemos una imagen de un canal y puede ser interpretado como una simple matriz (`.shape=2`). Si tiene varios canales, tenemos una matriz asignada para cada canal (`.shape=3`)."
      ],
      "metadata": {
        "id": "XAtKCty8Pwf3"
      }
    },
    {
      "cell_type": "markdown",
      "source": [
        "[Lenna](https://en.wikipedia.org/wiki/Lenna) es una imagen ampliamente utilizada en ciencias de la computación. Se volvió un icono. La idea va a ser analizar a la imagen y tratarla para varios propositos. Corra la siguiente celda para descargar la imagen y guardala como arreglo `numpy` en la variable `image`. Utilizar esta variable en las siguientes celdas."
      ],
      "metadata": {
        "id": "dLdRZFAFUu4U"
      }
    },
    {
      "cell_type": "code",
      "source": [
        "!wget https://upload.wikimedia.org/wikipedia/en/7/7d/Lenna_%28test_image%29.png\n",
        "from PIL import Image\n",
        "image = Image.open('Lenna_(test_image).png')\n",
        "image = np.asarray(image)"
      ],
      "metadata": {
        "id": "o4jaRNKPU24A"
      },
      "execution_count": null,
      "outputs": []
    },
    {
      "cell_type": "markdown",
      "source": [
        "Arranquemos con mostrar la imagen. Para eso, utilice `matplotlib.pyplot`."
      ],
      "metadata": {
        "id": "xRPbUp1RPxEZ"
      }
    },
    {
      "cell_type": "code",
      "source": [
        "import matplotlib.pyplot as plt\n",
        "import matplotlib.image as mpimg\n",
        "\n",
        "plt.imshow(image)\n",
        "plt.title('Visualización de la Imagen')\n",
        "plt.axis('off')\n",
        "plt.show()"
      ],
      "metadata": {
        "id": "stI6CHf0PxTC"
      },
      "execution_count": null,
      "outputs": []
    },
    {
      "cell_type": "markdown",
      "source": [
        "¿Cual es la dimensión de la imagen y que ancho y alto tiene?"
      ],
      "metadata": {
        "id": "nLNYMx7aWgC1"
      }
    },
    {
      "cell_type": "code",
      "source": [
        "dimensiones = image.shape\n",
        "alto = dimensiones[0]\n",
        "ancho = dimensiones[1]\n",
        "print(dimensiones)\n",
        "print(alto)\n",
        "print(ancho)"
      ],
      "metadata": {
        "id": "_1xeewCkWgnK"
      },
      "execution_count": null,
      "outputs": []
    },
    {
      "cell_type": "markdown",
      "source": [
        "Recorte la imagen en ancho entre (tomando como referencia los ejes de la imagen vista anteriormente) los 100 y 350 pixeles y en alto entre 200 y 400 pixeles. Mostrar el resultado."
      ],
      "metadata": {
        "id": "1VkqTtysPxgQ"
      }
    },
    {
      "cell_type": "code",
      "source": [
        "img_recortada = image[200:400, 100:350]\n",
        "plt.imshow(img_recortada)\n",
        "plt.axis('off')\n",
        "plt.show()"
      ],
      "metadata": {
        "id": "4M2b3bAsWOK5"
      },
      "execution_count": null,
      "outputs": []
    },
    {
      "cell_type": "markdown",
      "source": [
        "Muestre cada uno de los canales de la imagen."
      ],
      "metadata": {
        "id": "AVHJ1cPCWOfp"
      }
    },
    {
      "cell_type": "code",
      "source": [
        "canal_rojo = image[:, :, 0]\n",
        "canal_verde = image[:, :, 1]\n",
        "canal_azul = image[:, :, 2]\n",
        "\n",
        "fig, axs = plt.subplots(1, 3, figsize=(15, 5))\n",
        "\n",
        "axs[0].imshow(canal_rojo, cmap='Reds')\n",
        "axs[0].set_title('Canal Rojo')\n",
        "axs[0].axis('off')\n",
        "\n",
        "axs[1].imshow(canal_verde, cmap='Greens')\n",
        "axs[1].set_title('Canal Verde')\n",
        "axs[1].axis('off')\n",
        "\n",
        "axs[2].imshow(canal_azul, cmap='Blues')\n",
        "axs[2].set_title('Canal Azul')\n",
        "axs[2].axis('off')\n",
        "\n",
        "plt.show()\n"
      ],
      "metadata": {
        "id": "WrX2nzzaXacw"
      },
      "execution_count": null,
      "outputs": []
    },
    {
      "cell_type": "markdown",
      "source": [
        "Calcule el minimo, el máximo, y el promedio de los valores de la imagen."
      ],
      "metadata": {
        "id": "NgJ2kip-YGi4"
      }
    },
    {
      "cell_type": "code",
      "source": [
        "min_value = np.min(image)\n",
        "max_value = np.max(image)\n",
        "mean_value = np.mean(image)\n",
        "\n",
        "print(\"Mínimo:\", min_value)\n",
        "print(\"Máximo:\", max_value)\n",
        "print(\"Promedio:\", mean_value)"
      ],
      "metadata": {
        "id": "MeNicna5YDWS"
      },
      "execution_count": null,
      "outputs": []
    },
    {
      "cell_type": "markdown",
      "source": [
        "La verdad que tener todos los colores de la imagen es muy redundante. Paselo a blanco y negro. Para ello, tome el promedio de los canales en cada pixel. Muestre la imagen en blanco y negro."
      ],
      "metadata": {
        "id": "AWG-hOqEWPGM"
      }
    },
    {
      "cell_type": "code",
      "source": [
        "img_recortada = image[200:400, 100:350]\n",
        "img_gray = np.mean(img_recortada, axis=2)\n",
        "plt.imshow(img_gray, cmap='gray')\n",
        "plt.axis('off')\n",
        "plt.show()"
      ],
      "metadata": {
        "id": "qD0ObBpLXkGs"
      },
      "execution_count": null,
      "outputs": []
    },
    {
      "cell_type": "markdown",
      "source": [
        "Por último, vamos a proceder a \"binarizar\" la imagen. Es decir, vamos a setear en 1 TODOS los pixeles donde la intensidad (es decir, el valor del pixel) sea mayor a 200. El resto, lo seteamos a 0. Mostrar el resultado."
      ],
      "metadata": {
        "id": "mI9vO7lEXoSD"
      }
    },
    {
      "cell_type": "code",
      "source": [
        "image_bn = np.mean(image, axis=2)\n",
        "image_bn[image_bn > 200] = 1\n",
        "image_bn[image_bn <= 200] = 0\n",
        "plt.imshow(image_bn, cmap='gray')\n",
        "plt.axis('off')\n",
        "plt.show()"
      ],
      "metadata": {
        "id": "6FDsT52QXoiS"
      },
      "execution_count": null,
      "outputs": []
    },
    {
      "cell_type": "markdown",
      "source": [
        "# Análisis de datos"
      ],
      "metadata": {
        "id": "w7_v7cQQP5WT"
      }
    },
    {
      "cell_type": "markdown",
      "source": [
        "`boston.csv` es un archivo csv ampliamente utilizado como 'juguete' en proyectos de Machine Learning. Para descargarlo, corra la siguiente celda."
      ],
      "metadata": {
        "id": "Dg0xeed4aPdo"
      }
    },
    {
      "cell_type": "code",
      "source": [
        "!wget https://raw.githubusercontent.com/vincentarelbundock/Rdatasets/master/csv/MASS/Boston.csv"
      ],
      "metadata": {
        "id": "zYJ7P7omaJpc"
      },
      "execution_count": null,
      "outputs": []
    },
    {
      "cell_type": "markdown",
      "source": [
        "Lea el archivo csv (sin `pandas` pero se puede usar `csv`) y quedese con todas las columnas que son numericas. Inspeccionarlo puede hacer el trabajo bastante facil.\n",
        "\n",
        "Nota: Aunque `numpy` tenga una libreria para leer archivos, en este caso no no es útil por que todas las columas constan de diferentes tipo de dato y ademas el encabezado es `string`."
      ],
      "metadata": {
        "id": "kDR0xsYWP8NP"
      }
    },
    {
      "cell_type": "code",
      "source": [
        "import csv\n",
        "import numpy as np\n",
        "\n",
        "with open('Boston.csv', 'r') as file:\n",
        "    reader = csv.reader(file)\n",
        "    header = next(reader)\n",
        "    rows = list(reader)\n",
        "data = np.array(rows)\n",
        "\n",
        "def is_numeric(value):\n",
        "    try:\n",
        "        float(value)\n",
        "        return True\n",
        "    except ValueError:\n",
        "        return False\n",
        "\n",
        "numeric_columns = []\n",
        "for col_idx, column_name in enumerate(header):\n",
        "    if all(is_numeric(row[col_idx]) for row in rows):\n",
        "        numeric_columns.append(col_idx)\n",
        "\n",
        "numeric_data = data[:, numeric_columns]\n",
        "\n",
        "print(\"Encabezado de las columnas numéricas:\")\n",
        "print([header[idx] for idx in numeric_columns])\n",
        "\n",
        "print(\"\\nPrimeras filas de los datos numéricos:\")\n",
        "print(numeric_data[:5])"
      ],
      "metadata": {
        "id": "TlyJCghfP8fz"
      },
      "execution_count": null,
      "outputs": []
    },
    {
      "cell_type": "markdown",
      "source": [
        "Una vez procesado el archivo csv, proceda a convertirlo en una matriz de `numpy`."
      ],
      "metadata": {
        "id": "jkZA8oRAP8uk"
      }
    },
    {
      "cell_type": "code",
      "source": [
        "def is_numeric(value):\n",
        "    try:\n",
        "        float(value)\n",
        "        return True\n",
        "    except ValueError:\n",
        "        return False\n",
        "\n",
        "\n",
        "numeric_columns = []\n",
        "for col_idx, column_name in enumerate(header):\n",
        "    if all(is_numeric(row[col_idx]) for row in rows):\n",
        "        numeric_columns.append(col_idx)\n",
        "\n",
        "\n",
        "numeric_data = np.array([ [float(row[col_idx]) for col_idx in numeric_columns] for row in rows])\n",
        "\n",
        "print(\"Encabezado de las columnas numéricas:\")\n",
        "print([header[idx] for idx in numeric_columns])\n",
        "\n",
        "\n",
        "print(\"\\nPrimeras filas de los datos numéricos:\")\n",
        "print(numeric_data[:5])"
      ],
      "metadata": {
        "id": "bkAvWlJmP9EA"
      },
      "execution_count": null,
      "outputs": []
    },
    {
      "cell_type": "markdown",
      "source": [
        "Reporte el promedio de todas las columnas."
      ],
      "metadata": {
        "id": "rY_F7A8RP-fx"
      }
    },
    {
      "cell_type": "code",
      "source": [
        "numeric_columns = []\n",
        "for col_idx, column_name in enumerate(header):\n",
        "    if all(is_numeric(row[col_idx]) for row in rows):\n",
        "        numeric_columns.append(col_idx)\n",
        "\n",
        "numeric_data = np.array([ [float(row[col_idx]) for col_idx in numeric_columns] for row in rows])\n",
        "\n",
        "\n",
        "column_means = np.mean(numeric_data, axis=0)\n",
        "\n",
        "#\n",
        "print(\"Promedio de cada columna numérica:\")\n",
        "for idx, mean in enumerate(column_means):\n",
        "    print(f\"{header[numeric_columns[idx]]}: {mean:.2f}\")"
      ],
      "metadata": {
        "id": "kPgyPMOJP-zk"
      },
      "execution_count": null,
      "outputs": []
    },
    {
      "cell_type": "markdown",
      "source": [
        "Reporte la división entre una columna y otra (a elección cuales)"
      ],
      "metadata": {
        "id": "oO7I0NVTP_EH"
      }
    },
    {
      "cell_type": "code",
      "source": [
        "promedios = {\n",
        "    'rownames': 253.50,\n",
        "    'crim': 3.61,\n",
        "    'zn': 11.36,\n",
        "    'indus': 11.14,\n",
        "    'chas': 0.07,\n",
        "    'nox': 0.55,\n",
        "    'rm': 6.28,\n",
        "    'age': 68.57,\n",
        "    'dis': 3.80,\n",
        "    'rad': 9.55,\n",
        "    'tax': 408.24,\n",
        "    'ptratio': 18.46,\n",
        "    'black': 356.67,\n",
        "    'lstat': 12.65,\n",
        "    'medv': 22.53\n",
        "}\n",
        "\n",
        "crim_data = np.full(1000, promedios['crim'])\n",
        "zn_data = np.full(1000, promedios['zn'])\n",
        "\n",
        "division_result = crim_data / zn_data\n",
        "\n",
        "\n",
        "average_division_result = np.mean(division_result)\n",
        "\n",
        "print(f\"Resultado de la división de 'CRIM' entre 'ZN' (primeros 5 valores):\")\n",
        "print(division_result[:5])\n",
        "print(f\"\\nPromedio de la división de 'CRIM' entre 'ZN': {average_division_result:.2f}\")"
      ],
      "metadata": {
        "id": "Bk-HKFFtP_VK"
      },
      "execution_count": null,
      "outputs": []
    }
  ]
}