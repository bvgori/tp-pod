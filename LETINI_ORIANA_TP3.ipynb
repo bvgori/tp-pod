{
  "nbformat": 4,
  "nbformat_minor": 0,
  "metadata": {
    "colab": {
      "provenance": []
    },
    "kernelspec": {
      "name": "python3",
      "display_name": "Python 3"
    },
    "language_info": {
      "name": "python"
    }
  },
  "cells": [
    {
      "cell_type": "markdown",
      "source": [
        "*   **Año:** 1\n",
        "*   **Alumno/a:** Letini Oriana\n",
        "*   **Legajo:** 45689933"
      ],
      "metadata": {
        "id": "UwxQU5JCF33j"
      }
    },
    {
      "cell_type": "markdown",
      "source": [
        "# Pandas\n",
        "A continuación, cada celda va a pedir algo distinto. Por favor, realizarlo con la menor cantidad de lineas posibles y con NumPy.\n"
      ],
      "metadata": {
        "id": "8ec8DQdbWQfC"
      }
    },
    {
      "cell_type": "markdown",
      "source": [
        "Importar `pandas` con el alias `pd` e imprimir la versión instalada."
      ],
      "metadata": {
        "id": "uF01w4AQcrtV"
      }
    },
    {
      "cell_type": "code",
      "source": [
        "#Escribir el codigo para responder la pregunta en esta celda\n",
        "import pandas as pd"
      ],
      "metadata": {
        "id": "4WPUcwU_c5n2"
      },
      "execution_count": null,
      "outputs": []
    },
    {
      "cell_type": "markdown",
      "source": [
        "Crear la siguiente tabla como un dataframe de Pandas donde cada linea represente un diccionario.\n",
        "\n",
        "| _Index_ | **nombre**       | **edad** | **dni**  |\n",
        "|---------|------------------|----------|----------|\n",
        "| 9       | Brown, James     | 43       | 30123444 |\n",
        "| 3       | Hamkel, Louis V. | 29       | 44555666 |\n",
        "| 7       | Baptista, Carlos | 28       | 43120111 |"
      ],
      "metadata": {
        "id": "eC8fpbQ04GzX"
      }
    },
    {
      "cell_type": "code",
      "source": [
        "#Escribir el codigo para responder la pregunta en esta celda\n",
        "data = [\n",
        "    {\"nombre\" :  \"Brown, James\", \"edad\" : 43, \"dni\" : 30123444},\n",
        "    {\"nombre\" : \"Hamkel, Louis V.\", \"edad\" : 29, \"dni\" :44555666},\n",
        "    {\"nombre\" : \"Baptista, Carlos\", \"edad\" : 29, \"dni\" :44555666}\n",
        "]\n",
        "\n",
        "df = pd.DataFrame(data, index = [9, 3, 7])\n",
        "print(df)"
      ],
      "metadata": {
        "id": "I4zJ7s_k4GkI",
        "outputId": "ca819414-e6e9-43d2-da64-a1b6c4c680b6",
        "colab": {
          "base_uri": "https://localhost:8080/"
        }
      },
      "execution_count": null,
      "outputs": [
        {
          "output_type": "stream",
          "name": "stdout",
          "text": [
            "             nombre  edad       dni\n",
            "9      Brown, James    43  30123444\n",
            "3  Hamkel, Louis V.    29  44555666\n",
            "7  Baptista, Carlos    29  44555666\n"
          ]
        }
      ]
    },
    {
      "cell_type": "markdown",
      "source": [
        "Crear la siguiente tabla como un dataframe de Pandas donde todas las lineas esten dentro de un solo diccionario.\n",
        "\n",
        "| _Index_ | **nombre**       | **edad** | **dni**  |\n",
        "|---------|------------------|----------|----------|\n",
        "| 9       | Brown, James     | 43       | 30123444 |\n",
        "| 3       | Hamkel, Louis V. | 29       | 44555666 |\n",
        "| 7       | Baptista, Carlos | 28       | 43120111 |"
      ],
      "metadata": {
        "id": "zas-XX4r4SeP"
      }
    },
    {
      "cell_type": "code",
      "source": [
        "#Escribir el codigo para responder la pregunta en esta celda\n",
        "data = {\n",
        "    'nombre': ['Brown, James', 'Hamkel, Louis V.', 'Baptista, Carlos'],\n",
        "    'edad': [43, 29, 28],\n",
        "    'dni': [30123444, 44555666, 43120111]\n",
        "}\n",
        "\n",
        "df2 = pd.DataFrame(data, index = [9, 3, 7])\n",
        "\n",
        "print(df2)"
      ],
      "metadata": {
        "id": "_DhtCWhr4ST9",
        "outputId": "e8c501b3-fb7a-41f1-9f54-fa28d8b63ab5",
        "colab": {
          "base_uri": "https://localhost:8080/"
        }
      },
      "execution_count": null,
      "outputs": [
        {
          "output_type": "stream",
          "name": "stdout",
          "text": [
            "             nombre  edad       dni\n",
            "9      Brown, James    43  30123444\n",
            "3  Hamkel, Louis V.    29  44555666\n",
            "7  Baptista, Carlos    28  43120111\n"
          ]
        }
      ]
    },
    {
      "cell_type": "markdown",
      "source": [
        "Crear la siguiente tabla como un dataframe de Pandas donde se usen unicamente listas.\n",
        "\n",
        "| _Index_ | **nombre**       | **edad** | **dni**  |\n",
        "|---------|------------------|----------|----------|\n",
        "| 9       | Brown, James     | 43       | 30123444 |\n",
        "| 3       | Hamkel, Louis V. | 29       | 44555666 |\n",
        "| 7       | Baptista, Carlos | 28       | 43120111 |"
      ],
      "metadata": {
        "id": "ejbn5RSH4S_W"
      }
    },
    {
      "cell_type": "code",
      "source": [
        "#Escribir el codigo para responder la pregunta en esta celda\n",
        "nombres = ['Brown, James', 'Hamkel, Louis V.', 'Baptista, Carlos']\n",
        "edades = [43, 29, 28]\n",
        "dnis = [30123444, 44555666, 43120111]\n",
        "\n",
        "df3 = pd.DataFrame({\n",
        "    'nombre': nombres,\n",
        "    'edad': edades,\n",
        "    'dni': dnis\n",
        "}, index = [9, 3, 7])\n",
        "\n",
        "print(df3)"
      ],
      "metadata": {
        "id": "OMPq8C1C4Su3",
        "outputId": "4981db08-f1c9-4350-ee69-3b64c4103683",
        "colab": {
          "base_uri": "https://localhost:8080/"
        }
      },
      "execution_count": null,
      "outputs": [
        {
          "output_type": "stream",
          "name": "stdout",
          "text": [
            "             nombre  edad       dni\n",
            "9      Brown, James    43  30123444\n",
            "3  Hamkel, Louis V.    29  44555666\n",
            "7  Baptista, Carlos    28  43120111\n"
          ]
        }
      ]
    },
    {
      "cell_type": "markdown",
      "source": [
        "Crear la siguiente tabla como un dataframe de Pandas donde se usen unicamente `Series`.\n",
        "\n",
        "| _Index_ | **nombre**       | **edad** | **dni**  |\n",
        "|---------|------------------|----------|----------|\n",
        "| 9       | Brown, James     | 43       | 30123444 |\n",
        "| 3       | Hamkel, Louis V. | 29       | 44555666 |\n",
        "| 7       | Baptista, Carlos | 28       | 43120111 |"
      ],
      "metadata": {
        "id": "dVCeyowLEnJ1"
      }
    },
    {
      "cell_type": "code",
      "source": [
        "#Escribir el codigo para responder la pregunta en esta celda\n",
        "nombres = pd.Series(['Brown, James', 'Hamkel, Louis V.', 'Baptista, Carlos'])\n",
        "edades = pd.Series([43, 29, 28])\n",
        "dnis = pd.Series([30123444, 44555666, 43120111])\n",
        "\n",
        "df4 = pd.DataFrame([nombres, edades, dnis], index = [9, 3, 7])\n",
        "df4.columns = [\"nombres\", \"edades\", \"dnis\"]\n",
        "print(df4)"
      ],
      "metadata": {
        "id": "lj0zQr7qEmzj",
        "outputId": "8742e711-436e-4a2a-9915-d70d02a71e77",
        "colab": {
          "base_uri": "https://localhost:8080/"
        }
      },
      "execution_count": null,
      "outputs": [
        {
          "output_type": "stream",
          "name": "stdout",
          "text": [
            "        nombres            edades              dnis\n",
            "9  Brown, James  Hamkel, Louis V.  Baptista, Carlos\n",
            "3            43                29                28\n",
            "7      30123444          44555666          43120111\n"
          ]
        }
      ]
    },
    {
      "cell_type": "markdown",
      "source": [
        "Reutilice cualquiera de los dataframe hechos anteriormente pero agregue la columna `fecha` con el tipo de dato relacionado a fechas.\n",
        "\n",
        "| _Index_ | **nombre**       | **edad** | **dni**  | **fecha**  |\n",
        "|---------|------------------|----------|----------|------------|\n",
        "| 9       | Brown, James     | 43       | 30123444 | 12/08/1981 |\n",
        "| 3       | Hamkel, Louis V. | 29       | 44555666 | 10/04/1995 |\n",
        "| 7       | Baptista, Carlos | 28       | 43120111 | 28/05/1996 |"
      ],
      "metadata": {
        "id": "oP9dwhSLEnix"
      }
    },
    {
      "cell_type": "code",
      "source": [
        "#Escribir el codigo para responder la pregunta en esta celda\n",
        "data = {\n",
        "    'nombre': ['Brown, James', 'Hamkel, Louis V.', 'Baptista, Carlos'],\n",
        "    'edad': [43, 29, 28],\n",
        "    'dni': [30123444, 44555666, 43120111],\n",
        "    'fecha': [\"12/08/1981\", \"10/04/1995\", \"28/05/1996\"]\n",
        "}\n",
        "\n",
        "df5 = pd.DataFrame(data, index = [9, 3, 7])\n",
        "\n",
        "print(df5)"
      ],
      "metadata": {
        "id": "lt6ZjIgAFEpT",
        "outputId": "76a07cb3-4023-4330-a290-e8052ab5b6e6",
        "colab": {
          "base_uri": "https://localhost:8080/"
        }
      },
      "execution_count": null,
      "outputs": [
        {
          "output_type": "stream",
          "name": "stdout",
          "text": [
            "             nombre  edad       dni       fecha\n",
            "9      Brown, James    43  30123444  12/08/1981\n",
            "3  Hamkel, Louis V.    29  44555666  10/04/1995\n",
            "7  Baptista, Carlos    28  43120111  28/05/1996\n"
          ]
        }
      ]
    },
    {
      "cell_type": "markdown",
      "source": [
        "Ejecute la siguiente celda. Se va a descargar un archivo llamado `u.user`."
      ],
      "metadata": {
        "id": "X6Y5smKMEn6w"
      }
    },
    {
      "cell_type": "code",
      "source": [
        "!wget https://raw.githubusercontent.com/justmarkham/DAT8/master/data/u.user"
      ],
      "metadata": {
        "id": "3v7G1jWs7rDg",
        "outputId": "286da1db-0ea6-4919-f583-be3f24032a04",
        "colab": {
          "base_uri": "https://localhost:8080/"
        }
      },
      "execution_count": null,
      "outputs": [
        {
          "output_type": "stream",
          "name": "stdout",
          "text": [
            "--2024-09-18 00:28:28--  https://raw.githubusercontent.com/justmarkham/DAT8/master/data/u.user\n",
            "Resolving raw.githubusercontent.com (raw.githubusercontent.com)... 185.199.108.133, 185.199.109.133, 185.199.110.133, ...\n",
            "Connecting to raw.githubusercontent.com (raw.githubusercontent.com)|185.199.108.133|:443... connected.\n",
            "HTTP request sent, awaiting response... 200 OK\n",
            "Length: 22667 (22K) [text/plain]\n",
            "Saving to: ‘u.user.1’\n",
            "\n",
            "u.user.1            100%[===================>]  22.14K  --.-KB/s    in 0.002s  \n",
            "\n",
            "2024-09-18 00:28:28 (13.2 MB/s) - ‘u.user.1’ saved [22667/22667]\n",
            "\n"
          ]
        }
      ]
    },
    {
      "cell_type": "markdown",
      "source": [
        "Lea el archivo con pandas y muestre las primeras 5 filas."
      ],
      "metadata": {
        "id": "-qRRF8T_72wD"
      }
    },
    {
      "cell_type": "code",
      "source": [
        "#Escribir el codigo para responder la pregunta en esta celda\n",
        "df = pd.read_csv('u.user', sep = \"|\", header = 0, index_col = None)\n",
        "\n",
        "print(df[0:5])"
      ],
      "metadata": {
        "id": "HlPu1a1sEohQ",
        "outputId": "40f5a0a3-85b7-4bcd-8abd-3b2f01f0232b",
        "colab": {
          "base_uri": "https://localhost:8080/"
        }
      },
      "execution_count": null,
      "outputs": [
        {
          "output_type": "stream",
          "name": "stdout",
          "text": [
            "   user_id  age gender  occupation zip_code\n",
            "0        1   24      M  technician    85711\n",
            "1        2   53      F       other    94043\n",
            "2        3   23      M      writer    32067\n",
            "3        4   24      M  technician    43537\n",
            "4        5   33      F       other    15213\n"
          ]
        }
      ]
    },
    {
      "cell_type": "markdown",
      "source": [
        "Utilice la columna `user_id` como indice y saque dicha columna del dataframe\n",
        "\n"
      ],
      "metadata": {
        "id": "LsqtwfYc8P6L"
      }
    },
    {
      "cell_type": "code",
      "source": [
        "#Escribir el codigo para responder la pregunta en esta celda\n",
        "df = pd.read_csv('u.user', sep = \"|\", header = 0, index_col = None)\n",
        "df.set_index(\"user_id\", inplace=True)\n",
        "print(df)"
      ],
      "metadata": {
        "id": "yQs0BtSF8PzU",
        "outputId": "82e0cfd9-052a-40b9-f0ff-343351be05d2",
        "colab": {
          "base_uri": "https://localhost:8080/"
        }
      },
      "execution_count": null,
      "outputs": [
        {
          "output_type": "stream",
          "name": "stdout",
          "text": [
            "         age gender     occupation zip_code\n",
            "user_id                                    \n",
            "1         24      M     technician    85711\n",
            "2         53      F          other    94043\n",
            "3         23      M         writer    32067\n",
            "4         24      M     technician    43537\n",
            "5         33      F          other    15213\n",
            "...      ...    ...            ...      ...\n",
            "939       26      F        student    33319\n",
            "940       32      M  administrator    02215\n",
            "941       20      M        student    97229\n",
            "942       48      F      librarian    78209\n",
            "943       22      M        student    77841\n",
            "\n",
            "[943 rows x 4 columns]\n"
          ]
        }
      ]
    },
    {
      "cell_type": "markdown",
      "source": [
        "¿Cuantas categorias de trabajos hay?"
      ],
      "metadata": {
        "id": "_5Cld-VT8PsG"
      }
    },
    {
      "cell_type": "code",
      "source": [
        "#Escribir el codigo para responder la pregunta en esta celda\n",
        "\n",
        "print(len(df.groupby(\"occupation\")))"
      ],
      "metadata": {
        "id": "TVeQ-jgZ8PlX",
        "outputId": "d878ec1c-419e-4d2b-a906-60906ff551b5",
        "colab": {
          "base_uri": "https://localhost:8080/"
        }
      },
      "execution_count": null,
      "outputs": [
        {
          "output_type": "stream",
          "name": "stdout",
          "text": [
            "21\n"
          ]
        }
      ]
    },
    {
      "cell_type": "markdown",
      "source": [
        " Reporte el porcentaje de personas que tiene cada ocupación."
      ],
      "metadata": {
        "id": "suETYqm28Pba"
      }
    },
    {
      "cell_type": "code",
      "source": [
        "#Escribir el codigo para responder la pregunta en esta celda\n",
        "total = len(df)\n",
        "\n",
        "occupation = df['occupation'].value_counts()\n",
        "\n",
        "porcentaje = (occupation / total) * 100\n",
        "\n",
        "print(porcentaje)"
      ],
      "metadata": {
        "id": "mJFiaURH8PS4",
        "outputId": "8d52094b-94e7-4a49-a2c7-9dbbfaf50498",
        "colab": {
          "base_uri": "https://localhost:8080/"
        }
      },
      "execution_count": null,
      "outputs": [
        {
          "output_type": "stream",
          "name": "stdout",
          "text": [
            "occupation\n",
            "student          20.784730\n",
            "other            11.134677\n",
            "educator         10.074231\n",
            "administrator     8.377519\n",
            "engineer          7.104984\n",
            "programmer        6.998940\n",
            "librarian         5.408271\n",
            "writer            4.772004\n",
            "executive         3.393425\n",
            "scientist         3.287381\n",
            "artist            2.969247\n",
            "technician        2.863203\n",
            "marketing         2.757158\n",
            "entertainment     1.908802\n",
            "healthcare        1.696713\n",
            "retired           1.484624\n",
            "lawyer            1.272534\n",
            "salesman          1.272534\n",
            "none              0.954401\n",
            "homemaker         0.742312\n",
            "doctor            0.742312\n",
            "Name: count, dtype: float64\n"
          ]
        }
      ]
    },
    {
      "cell_type": "markdown",
      "source": [
        "Reporte el promedio de edad de los estudiantes usando indexeo booleano."
      ],
      "metadata": {
        "id": "OqJ3ufrnEouE"
      }
    },
    {
      "cell_type": "code",
      "source": [
        "#Escribir el codigo para responder la pregunta en esta celda\n",
        "student = df['occupation'] == 'student'\n",
        "students_df = df[student]\n",
        "\n",
        "promedio = students_df['age'].mean()\n",
        "\n",
        "print(promedio)"
      ],
      "metadata": {
        "id": "h9LdQIKZF5Y3",
        "outputId": "1341e961-ecab-4d26-bcc6-352836498584",
        "colab": {
          "base_uri": "https://localhost:8080/"
        }
      },
      "execution_count": null,
      "outputs": [
        {
          "output_type": "stream",
          "name": "stdout",
          "text": [
            "22.081632653061224\n"
          ]
        }
      ]
    },
    {
      "cell_type": "markdown",
      "source": [
        "Mostrar, con una sola linea y sin importar `matplotlib`, un histograma de las edades de las personas que son administradores."
      ],
      "metadata": {
        "id": "ECU9-LayF53z"
      }
    },
    {
      "cell_type": "code",
      "source": [
        "#Escribir el codigo para responder la pregunta en esta celda\n",
        "df[df['occupation'] == 'administrator']['age'].hist()"
      ],
      "metadata": {
        "id": "qOimVpu0F4el",
        "outputId": "8e2ee286-bb78-4607-b369-9efda8a4b7b3",
        "colab": {
          "base_uri": "https://localhost:8080/",
          "height": 90
        }
      },
      "execution_count": null,
      "outputs": [
        {
          "output_type": "execute_result",
          "data": {
            "text/plain": [
              "<Axes: >"
            ]
          },
          "metadata": {},
          "execution_count": 133
        },
        {
          "output_type": "display_data",
          "data": {
            "text/plain": [
              "<Figure size 640x480 with 1 Axes>"
            ],
            "image/png": "[encoded data removed]"
          },
          "metadata": {}
        }
      ]
    },
    {
      "cell_type": "markdown",
      "source": [
        "Reemplace, sin usar `for`, en la columna `gender` `F` por `female` y `M` por `male`."
      ],
      "metadata": {
        "id": "mFzSH9D1QHM4"
      }
    },
    {
      "cell_type": "code",
      "source": [
        "#Escribir el codigo para responder la pregunta en esta celda\n",
        "\n",
        "df['gender'] = df['gender'].replace({'F': 'M', 'M': 'F'})\n",
        "print(df)"
      ],
      "metadata": {
        "id": "SZg2_4AJQHhr",
        "outputId": "b6297a4e-cbd2-47ef-80f2-d6194c17f5b2",
        "colab": {
          "base_uri": "https://localhost:8080/"
        }
      },
      "execution_count": null,
      "outputs": [
        {
          "output_type": "stream",
          "name": "stdout",
          "text": [
            "         age gender     occupation zip_code\n",
            "user_id                                    \n",
            "1         24      F     technician    85711\n",
            "2         53      M          other    94043\n",
            "3         23      F         writer    32067\n",
            "4         24      F     technician    43537\n",
            "5         33      M          other    15213\n",
            "...      ...    ...            ...      ...\n",
            "939       26      M        student    33319\n",
            "940       32      F  administrator    02215\n",
            "941       20      F        student    97229\n",
            "942       48      M      librarian    78209\n",
            "943       22      F        student    77841\n",
            "\n",
            "[943 rows x 4 columns]\n"
          ]
        }
      ]
    },
    {
      "cell_type": "markdown",
      "source": [
        "# Yahoo! Finance"
      ],
      "metadata": {
        "id": "x6s9aanXAp4G"
      }
    },
    {
      "cell_type": "markdown",
      "source": [
        "Vamos a analizar acciones. La siguiente linea accede a Yahoo Finance y devuelve un DataFrame con los valores de la acción cada dia desde el 1980."
      ],
      "metadata": {
        "id": "qqBxTaafArYH"
      }
    },
    {
      "cell_type": "code",
      "source": [
        "import yfinance as yf\n",
        "dataframe = yf.download('AAPL', start=\"1980-01-01\", end=\"2030-01-01\")\n",
        "print(dataframe)"
      ],
      "metadata": {
        "id": "HWJ0fZbfApy6",
        "outputId": "68526477-feba-4da5-a8fb-532f23a9201a",
        "colab": {
          "base_uri": "https://localhost:8080/"
        }
      },
      "execution_count": null,
      "outputs": [
        {
          "output_type": "stream",
          "name": "stderr",
          "text": [
            "\r[*********************100%***********************]  1 of 1 completed"
          ]
        },
        {
          "output_type": "stream",
          "name": "stdout",
          "text": [
            "                  Open        High         Low       Close   Adj Close  \\\n",
            "Date                                                                     \n",
            "1980-12-12    0.128348    0.128906    0.128348    0.128348    0.098943   \n",
            "1980-12-15    0.122210    0.122210    0.121652    0.121652    0.093781   \n",
            "1980-12-16    0.113281    0.113281    0.112723    0.112723    0.086898   \n",
            "1980-12-17    0.115513    0.116071    0.115513    0.115513    0.089049   \n",
            "1980-12-18    0.118862    0.119420    0.118862    0.118862    0.091630   \n",
            "...                ...         ...         ...         ...         ...   \n",
            "2024-09-13  223.580002  224.039993  221.910004  222.500000  222.500000   \n",
            "2024-09-16  216.539993  217.220001  213.919998  216.320007  216.320007   \n",
            "2024-09-17  215.750000  216.899994  214.500000  216.789993  216.789993   \n",
            "2024-09-18  217.550003  222.710007  217.539993  220.690002  220.690002   \n",
            "2024-09-19  225.139999  228.970001  224.639999  228.850006  228.850006   \n",
            "\n",
            "               Volume  \n",
            "Date                   \n",
            "1980-12-12  469033600  \n",
            "1980-12-15  175884800  \n",
            "1980-12-16  105728000  \n",
            "1980-12-17   86441600  \n",
            "1980-12-18   73449600  \n",
            "...               ...  \n",
            "2024-09-13   36766600  \n",
            "2024-09-16   59357400  \n",
            "2024-09-17   45519300  \n",
            "2024-09-18   59788400  \n",
            "2024-09-19   16520611  \n",
            "\n",
            "[11034 rows x 6 columns]\n"
          ]
        },
        {
          "output_type": "stream",
          "name": "stderr",
          "text": [
            "\n"
          ]
        }
      ]
    },
    {
      "cell_type": "markdown",
      "source": [
        "¿Cual es el registro mas viejo? Imprimirlo."
      ],
      "metadata": {
        "id": "ikpnKqnPApuG"
      }
    },
    {
      "cell_type": "code",
      "source": [
        "#Escribir el codigo para responder la pregunta en esta celda\n",
        "mas_viejo = dataframe.iloc[0]\n",
        "print(mas_viejo)"
      ],
      "metadata": {
        "id": "e56tZ607Appx",
        "colab": {
          "base_uri": "https://localhost:8080/"
        },
        "outputId": "cc108666-c818-471e-fb45-de9b28fea47f"
      },
      "execution_count": null,
      "outputs": [
        {
          "output_type": "stream",
          "name": "stdout",
          "text": [
            "Open         1.283480e-01\n",
            "High         1.289060e-01\n",
            "Low          1.283480e-01\n",
            "Close        1.283480e-01\n",
            "Adj Close    9.894320e-02\n",
            "Volume       4.690336e+08\n",
            "Name: 1980-12-12 00:00:00, dtype: float64\n"
          ]
        }
      ]
    },
    {
      "cell_type": "markdown",
      "source": [
        "Cree la columna `Average` tal que\n",
        "\n",
        "$$Average =  \\frac{High-Low}{2}$$\n",
        "\n",
        "y muestre con un histograma dicha columna."
      ],
      "metadata": {
        "id": "EHHhUvUtApk0"
      }
    },
    {
      "cell_type": "code",
      "source": [
        "#Escribir el codigo para responder la pregunta en esta celda\n",
        "import matplotlib.pyplot as plt\n",
        "\n",
        "dataframe['Average'] = (dataframe['High'] - dataframe['Low']) / 2\n",
        "\n",
        "plt.figure(figsize=(10, 6))\n",
        "plt.hist(dataframe['Average'], bins=50, color='blue', edgecolor='black')\n",
        "plt.title('Histograma de Average')\n",
        "plt.xlabel('Average')\n",
        "plt.ylabel('Frecuencia')\n",
        "plt.grid(True)\n",
        "plt.show()\n"
      ],
      "metadata": {
        "id": "-b9g66axApgL",
        "colab": {
          "base_uri": "https://localhost:8080/",
          "height": 564
        },
        "outputId": "df699960-d013-485b-c908-5dbfadaa7649"
      },
      "execution_count": null,
      "outputs": [
        {
          "output_type": "display_data",
          "data": {
            "text/plain": [
              "<Figure size 1000x600 with 1 Axes>"
            ],
            "image/png": "[encoded data removed]"
          },
          "metadata": {}
        }
      ]
    },
    {
      "cell_type": "markdown",
      "source": [
        "Con `matplotlib`, muestre como `Average` fue evolucionando *al final de cada año*."
      ],
      "metadata": {
        "id": "yeZWGXexApbb"
      }
    },
    {
      "cell_type": "code",
      "source": [
        "#Escribir el codigo para responder la pregunta en esta celda\n",
        "dataframe['Year'] = dataframe.index.year\n",
        "average_per_year = dataframe.groupby('Year')['Average'].mean()\n",
        "\n",
        "plt.figure(figsize=(12, 6))\n",
        "plt.plot(average_per_year.index, average_per_year.values, marker='o', linestyle='-', color='blue')\n",
        "plt.title('Evolución de Average al final de cada año')\n",
        "plt.xlabel('Año')\n",
        "plt.ylabel('Average')\n",
        "plt.grid(True)\n",
        "plt.xticks(average_per_year.index, rotation=45)\n",
        "plt.show()"
      ],
      "metadata": {
        "id": "oeSb_UegApVZ",
        "colab": {
          "base_uri": "https://localhost:8080/",
          "height": 586
        },
        "outputId": "5074c357-dbdf-4c5b-81c9-5da8a05a2d47"
      },
      "execution_count": null,
      "outputs": [
        {
          "output_type": "display_data",
          "data": {
            "text/plain": [
              "<Figure size 1200x600 with 1 Axes>"
            ],
            "image/png": "[encoded data removed]"
          },
          "metadata": {}
        }
      ]
    },
    {
      "cell_type": "markdown",
      "source": [
        "Muestre con un gráfico de barras, como el volumen fue cambiando *año a año*."
      ],
      "metadata": {
        "id": "K1UXxoawApPD"
      }
    },
    {
      "cell_type": "code",
      "source": [
        "#Escribir el codigo para responder la pregunta en esta celda\n",
        "dataframe['Year'] = dataframe.index.year\n",
        "volume_per_year = dataframe.groupby('Year')['Volume'].sum()\n",
        "\n",
        "plt.figure(figsize=(12, 6))\n",
        "volume_per_year.plot(kind='bar', color='skyblue', edgecolor='black')\n",
        "plt.title('Volumen de Acciones Cambiando Año a Año')\n",
        "plt.xlabel('Año')\n",
        "plt.ylabel('Volumen Total')\n",
        "plt.xticks(rotation=45)\n",
        "plt.grid(axis='y')\n",
        "plt.show()"
      ],
      "metadata": {
        "id": "4OyausU5ApGJ",
        "colab": {
          "base_uri": "https://localhost:8080/",
          "height": 585
        },
        "outputId": "bc2647d2-28b1-4787-f7d6-d349a46cbaca"
      },
      "execution_count": null,
      "outputs": [
        {
          "output_type": "display_data",
          "data": {
            "text/plain": [
              "<Figure size 1200x600 with 1 Axes>"
            ],
            "image/png": "[encoded data removed]"
          },
          "metadata": {}
        }
      ]
    },
    {
      "cell_type": "markdown",
      "source": [
        "# Cancelaciones y Delays de vuelos del 2015"
      ],
      "metadata": {
        "id": "uf4NRwyMCKbg"
      }
    },
    {
      "cell_type": "markdown",
      "source": [
        "Creese una cuenta en Kaggle e importe los archivos del dataset del siguiente link: https://www.kaggle.com/datasets/usdot/flight-delays. Cree los dataframes `airlines`, `airports`, y `flights` apartir de esos archivos."
      ],
      "metadata": {
        "id": "RoYldCmDCKWJ"
      }
    },
    {
      "cell_type": "code",
      "source": [
        "df = pd.read_csv(\"/content/airlines.csv\")\n",
        "df2 = pd.read_csv(\"/content/airports.csv\")\n",
        "df3 = pd.read_csv(\"/content/flights.csv\")\n",
        "airlines = df\n",
        "airports = df2\n",
        "flights = df3"
      ],
      "metadata": {
        "id": "pRwfZBNKEFwo",
        "colab": {
          "base_uri": "https://localhost:8080/",
          "height": 211
        },
        "outputId": "51f44773-2c48-4212-a419-ab73d2f237ea"
      },
      "execution_count": null,
      "outputs": [
        {
          "output_type": "error",
          "ename": "NameError",
          "evalue": "name 'pd' is not defined",
          "traceback": [
            "\u001b[0;31m---------------------------------------------------------------------------\u001b[0m",
            "\u001b[0;31mNameError\u001b[0m                                 Traceback (most recent call last)",
            "\u001b[0;32m<ipython-input-1-22ca4a7c2d01>\u001b[0m in \u001b[0;36m<cell line: 1>\u001b[0;34m()\u001b[0m\n\u001b[0;32m----> 1\u001b[0;31m \u001b[0mdf\u001b[0m \u001b[0;34m=\u001b[0m \u001b[0mpd\u001b[0m\u001b[0;34m.\u001b[0m\u001b[0mread_csv\u001b[0m\u001b[0;34m(\u001b[0m\u001b[0;34m\"/content/airlines.csv\"\u001b[0m\u001b[0;34m)\u001b[0m\u001b[0;34m\u001b[0m\u001b[0;34m\u001b[0m\u001b[0m\n\u001b[0m\u001b[1;32m      2\u001b[0m \u001b[0mdf2\u001b[0m \u001b[0;34m=\u001b[0m \u001b[0mpd\u001b[0m\u001b[0;34m.\u001b[0m\u001b[0mread_csv\u001b[0m\u001b[0;34m(\u001b[0m\u001b[0;34m\"/content/airports.csv\"\u001b[0m\u001b[0;34m)\u001b[0m\u001b[0;34m\u001b[0m\u001b[0;34m\u001b[0m\u001b[0m\n\u001b[1;32m      3\u001b[0m \u001b[0mdf3\u001b[0m \u001b[0;34m=\u001b[0m \u001b[0mpd\u001b[0m\u001b[0;34m.\u001b[0m\u001b[0mread_csv\u001b[0m\u001b[0;34m(\u001b[0m\u001b[0;34m\"/content/flights.csv\"\u001b[0m\u001b[0;34m)\u001b[0m\u001b[0;34m\u001b[0m\u001b[0;34m\u001b[0m\u001b[0m\n\u001b[1;32m      4\u001b[0m \u001b[0mairlines\u001b[0m \u001b[0;34m=\u001b[0m \u001b[0mdf\u001b[0m\u001b[0;34m\u001b[0m\u001b[0;34m\u001b[0m\u001b[0m\n\u001b[1;32m      5\u001b[0m \u001b[0mairports\u001b[0m \u001b[0;34m=\u001b[0m \u001b[0mdf2\u001b[0m\u001b[0;34m\u001b[0m\u001b[0;34m\u001b[0m\u001b[0m\n",
            "\u001b[0;31mNameError\u001b[0m: name 'pd' is not defined"
          ]
        }
      ]
    },
    {
      "cell_type": "markdown",
      "source": [
        "# Combine (*join*) las tablas `airlines`, `airports`, y `flights` en una sola tabla."
      ],
      "metadata": {
        "id": "PjDZHuvKCKNp"
      }
    },
    {
      "cell_type": "code",
      "source": [
        "flights_airlines = pd.merge(flights, airlines, left_on='AIRLINE', right_on='IATA_CODE', how='left')\n",
        "\n",
        "flights_airports_origin = pd.merge(flights_airlines, airports, left_on='ORIGIN_AIRPORT', right_on='IATA_CODE', how='left', suffixes=('_origin', '_origin_airport'))\n",
        "\n",
        "print(flights_airports_origin.columns)\n",
        "\n",
        "flights_airports_final = pd.merge(flights_airports_origin, airports, left_on='DESTINATION_AIRPORT', right_on='IATA_CODE', how='left', suffixes=('_origin', '_destination'))\n",
        "\n",
        "print(flights_airports_final.columns)\n",
        "\n",
        "flights_airports_final = flights_airports_final.loc[:, ~flights_airports_final.columns.str.contains('IATA_CODE')]\n",
        "\n",
        "print(flights_airports_final.head())"
      ],
      "metadata": {
        "id": "fSpwaXWzCKJ9",
        "colab": {
          "base_uri": "https://localhost:8080/",
          "height": 341
        },
        "outputId": "69ec77bb-480a-4e63-f41b-52ad027ccab6"
      },
      "execution_count": null,
      "outputs": [
        {
          "output_type": "error",
          "ename": "KeyError",
          "evalue": "\"None of ['airline_id'] are in the columns\"",
          "traceback": [
            "\u001b[0;31m---------------------------------------------------------------------------\u001b[0m",
            "\u001b[0;31mKeyError\u001b[0m                                  Traceback (most recent call last)",
            "\u001b[0;32m<ipython-input-21-a5d7030497da>\u001b[0m in \u001b[0;36m<cell line: 1>\u001b[0;34m()\u001b[0m\n\u001b[0;32m----> 1\u001b[0;31m \u001b[0mairlines\u001b[0m\u001b[0;34m.\u001b[0m\u001b[0mset_index\u001b[0m\u001b[0;34m(\u001b[0m\u001b[0;34m'airline_id'\u001b[0m\u001b[0;34m,\u001b[0m \u001b[0minplace\u001b[0m\u001b[0;34m=\u001b[0m\u001b[0;32mTrue\u001b[0m\u001b[0;34m)\u001b[0m\u001b[0;34m\u001b[0m\u001b[0;34m\u001b[0m\u001b[0m\n\u001b[0m\u001b[1;32m      2\u001b[0m \u001b[0mairports\u001b[0m\u001b[0;34m.\u001b[0m\u001b[0mset_index\u001b[0m\u001b[0;34m(\u001b[0m\u001b[0;34m'airport_id'\u001b[0m\u001b[0;34m,\u001b[0m \u001b[0minplace\u001b[0m\u001b[0;34m=\u001b[0m\u001b[0;32mTrue\u001b[0m\u001b[0;34m)\u001b[0m\u001b[0;34m\u001b[0m\u001b[0;34m\u001b[0m\u001b[0m\n\u001b[1;32m      3\u001b[0m \u001b[0;34m\u001b[0m\u001b[0m\n\u001b[1;32m      4\u001b[0m \u001b[0;31m# Unir flights con airlines utilizando join\u001b[0m\u001b[0;34m\u001b[0m\u001b[0;34m\u001b[0m\u001b[0m\n\u001b[1;32m      5\u001b[0m \u001b[0;31m# Primero, aseguramos que flights tenga el índice correcto\u001b[0m\u001b[0;34m\u001b[0m\u001b[0;34m\u001b[0m\u001b[0m\n",
            "\u001b[0;32m/usr/local/lib/python3.10/dist-packages/pandas/core/frame.py\u001b[0m in \u001b[0;36mset_index\u001b[0;34m(self, keys, drop, append, inplace, verify_integrity)\u001b[0m\n\u001b[1;32m   6120\u001b[0m \u001b[0;34m\u001b[0m\u001b[0m\n\u001b[1;32m   6121\u001b[0m         \u001b[0;32mif\u001b[0m \u001b[0mmissing\u001b[0m\u001b[0;34m:\u001b[0m\u001b[0;34m\u001b[0m\u001b[0;34m\u001b[0m\u001b[0m\n\u001b[0;32m-> 6122\u001b[0;31m             \u001b[0;32mraise\u001b[0m \u001b[0mKeyError\u001b[0m\u001b[0;34m(\u001b[0m\u001b[0;34mf\"None of {missing} are in the columns\"\u001b[0m\u001b[0;34m)\u001b[0m\u001b[0;34m\u001b[0m\u001b[0;34m\u001b[0m\u001b[0m\n\u001b[0m\u001b[1;32m   6123\u001b[0m \u001b[0;34m\u001b[0m\u001b[0m\n\u001b[1;32m   6124\u001b[0m         \u001b[0;32mif\u001b[0m \u001b[0minplace\u001b[0m\u001b[0;34m:\u001b[0m\u001b[0;34m\u001b[0m\u001b[0;34m\u001b[0m\u001b[0m\n",
            "\u001b[0;31mKeyError\u001b[0m: \"None of ['airline_id'] are in the columns\""
          ]
        }
      ]
    },
    {
      "cell_type": "markdown",
      "source": [
        "¿Cuantos vuelos fueron al aeropuerto JFK?"
      ],
      "metadata": {
        "id": "qnx03j1hFm54"
      }
    },
    {
      "cell_type": "code",
      "source": [
        "vuelosjfk = flights[flights['DESTINATION_AIRPORT'] == 'JFK']\n",
        "\n",
        "num_vuelos_jfk = vuelosjfk.shape[0]\n",
        "\n",
        "print(num_vuelos_jfk)"
      ],
      "metadata": {
        "id": "lmluYuizFnKD"
      },
      "execution_count": null,
      "outputs": []
    },
    {
      "cell_type": "markdown",
      "source": [
        "¿Cuantos vuelos hizo la aerolinea AA?"
      ],
      "metadata": {
        "id": "dhyTy9BhFnXx"
      }
    },
    {
      "cell_type": "code",
      "source": [
        "vuelosaa = flights[flights['AIRLINE'] == 'AA']\n",
        "\n",
        "num_vuelos_aa = vuelosaa.shape[0]\n",
        "\n",
        "print(num_vuelos_aa)"
      ],
      "metadata": {
        "id": "IupGmRDpFnsu"
      },
      "execution_count": null,
      "outputs": []
    },
    {
      "cell_type": "markdown",
      "source": [
        "¿Que aerolineas (las primeras 5) tuvo la menor cantidad de vuelos con atrasos? Imprimirlas."
      ],
      "metadata": {
        "id": "kMP-JH_VEsMb"
      }
    },
    {
      "cell_type": "code",
      "source": [
        "flights_with_delay = flights[flights['DEPARTURE_DELAY'] > 0]\n",
        "\n",
        "delayed_flights_by_airline = flights_with_delay.groupby('AIRLINE').size()\n",
        "\n",
        "delayed_flights_sorted = delayed_flights_by_airline.sort_values().head(5)\n",
        "\n",
        "print(delayed_flights_sorted)"
      ],
      "metadata": {
        "id": "4-h0JTPuEsZk"
      },
      "execution_count": null,
      "outputs": []
    },
    {
      "cell_type": "markdown",
      "source": [
        "¿Que aerolineas (las primeras 5) tuvo la mayor cantidad de vuelos con atrasos? Imprimirlas."
      ],
      "metadata": {
        "id": "AD51bj4AEs3L"
      }
    },
    {
      "cell_type": "code",
      "source": [
        "flights_with_delay = flights[flights['DEPARTURE_DELAY'] > 0]\n",
        "\n",
        "delayed_flights_by_airline = flights_with_delay.groupby('AIRLINE').size()\n",
        "\n",
        "delayed_flights_sorted = delayed_flights_by_airline.sort_values(ascending=False).head(5)\n",
        "\n",
        "print(delayed_flights_sorted)"
      ],
      "metadata": {
        "id": "MiB6jHQ2Erqx"
      },
      "execution_count": null,
      "outputs": []
    },
    {
      "cell_type": "markdown",
      "source": [
        "Haga un resumen de las razones por la cual los vuelos se atrasan."
      ],
      "metadata": {
        "id": "DWQedGQvFYGP"
      }
    },
    {
      "cell_type": "code",
      "source": [
        "#Segun el dataset; AIR_SYSTEM_DELAY, SECURITY_DELAY, AIRLINE_DELAY, LATE_AIRCRAFT_DELAY, WEATHER_DELAY"
      ],
      "metadata": {
        "id": "AtPN0dv5FX3d"
      },
      "execution_count": null,
      "outputs": []
    },
    {
      "cell_type": "markdown",
      "source": [
        "Compruebe si hay columnas con celdas vacias."
      ],
      "metadata": {
        "id": "rMpR4FWdCKF2"
      }
    },
    {
      "cell_type": "code",
      "source": [
        "nullcc = flights.isnull().sum()\n",
        "\n",
        "print(nullcc[missing_values > 0])"
      ],
      "metadata": {
        "id": "S_SzBL9ZCKCV"
      },
      "execution_count": null,
      "outputs": []
    },
    {
      "cell_type": "markdown",
      "source": [
        "Haga una imputación de datos COMPLETA del dataframe. Pueden escojer cualquier estrategia y no necesariamente todas las columnas deben seguir la misma estrategia."
      ],
      "metadata": {
        "id": "1IH7wd3PCJfQ"
      }
    },
    {
      "cell_type": "code",
      "source": [
        "from sklearn.impute import SimpleImputer\n",
        "\n",
        "numerical_columns = flights.select_dtypes(include=['float64', 'int64']).columns\n",
        "numerical_imputer = SimpleImputer(strategy='median')\n",
        "\n",
        "flights[numerical_columns] = numerical_imputer.fit_transform(flights[numerical_columns])\n",
        "\n",
        "categorical_columns = flights.select_dtypes(include=['object']).columns\n",
        "categorical_imputer = SimpleImputer(strategy='most_frequent')\n",
        "\n",
        "flights[categorical_columns] = categorical_imputer.fit_transform(flights[categorical_columns])\n",
        "\n",
        "missing_values_after_imputation = flights.isnull().sum()\n",
        "\n",
        "print(missing_values_after_imputation[missing_values_after_imputation > 0])"
      ],
      "metadata": {
        "id": "PHmO-jb8CJaF"
      },
      "execution_count": null,
      "outputs": []
    }
  ]
}